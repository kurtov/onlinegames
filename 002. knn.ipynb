{
 "cells": [
  {
   "cell_type": "code",
   "execution_count": 4,
   "metadata": {
    "collapsed": true
   },
   "outputs": [],
   "source": [
    "import numpy as np\n",
    "import pandas as pd\n",
    "import matplotlib.pyplot as plt\n",
    "plt.style.use('ggplot')\n",
    "%matplotlib inline"
   ]
  },
  {
   "cell_type": "code",
   "execution_count": 72,
   "metadata": {
    "collapsed": true
   },
   "outputs": [],
   "source": [
    "from sklearn.neighbors import KNeighborsClassifier"
   ]
  },
  {
   "cell_type": "code",
   "execution_count": 5,
   "metadata": {
    "collapsed": false
   },
   "outputs": [],
   "source": [
    "x_train = pd.read_csv('data/x_train_norm.csv', sep=';', na_values='?')\n",
    "x_test = pd.read_csv('data/x_test_norm.csv', sep=';', na_values='?')\n",
    "y_train = pd.read_csv('data/y_train.csv', sep=';', header=None, na_values='?')[0]"
   ]
  },
  {
   "cell_type": "code",
   "execution_count": 54,
   "metadata": {
    "collapsed": false
   },
   "outputs": [
    {
     "name": "stdout",
     "output_type": "stream",
     "text": [
      "0.171537031911 50\n"
     ]
    }
   ],
   "source": [
    "n_neighbors_array = range(1, 65)\n",
    "knn = KNeighborsClassifier()\n",
    "grid = GridSearchCV(knn, param_grid={'n_neighbors': n_neighbors_array})\n",
    "grid.fit(x_train, y_train)\n",
    "\n",
    "best_cv_err = 1 - grid.best_score_\n",
    "best_n_neighbors = grid.best_estimator_.n_neighbors\n",
    "print best_cv_err, best_n_neighbors"
   ]
  },
  {
   "cell_type": "code",
   "execution_count": 55,
   "metadata": {
    "collapsed": false
   },
   "outputs": [
    {
     "data": {
      "text/plain": [
       "[<matplotlib.lines.Line2D at 0x10fd46290>]"
      ]
     },
     "execution_count": 55,
     "metadata": {},
     "output_type": "execute_result"
    },
    {
     "data": {
      "image/png": "[encoded data removed]",
      "text/plain": [
       "<matplotlib.figure.Figure at 0x10fd8dad0>"
      ]
     },
     "metadata": {},
     "output_type": "display_data"
    }
   ],
   "source": [
    "plt.plot(np.array(grid.cv_results_[\"param_n_neighbors\"]), grid.cv_results_[\"mean_test_score\"], '.r')"
   ]
  },
  {
   "cell_type": "code",
   "execution_count": 52,
   "metadata": {
    "collapsed": false
   },
   "outputs": [
    {
     "name": "stdout",
     "output_type": "stream",
     "text": [
      "0.171537031911 57\n"
     ]
    }
   ],
   "source": [
    "# weights='distance' - отличие\n",
    "n_neighbors_array = range(1, 65)\n",
    "knn = KNeighborsClassifier(5, weights='distance')\n",
    "grid = GridSearchCV(knn, param_grid={'n_neighbors': n_neighbors_array})\n",
    "grid.fit(x_train, y_train)\n",
    "\n",
    "best_cv_err = 1 - grid.best_score_\n",
    "best_n_neighbors = grid.best_estimator_.n_neighbors\n",
    "print best_cv_err, best_n_neighbors"
   ]
  },
  {
   "cell_type": "code",
   "execution_count": 53,
   "metadata": {
    "collapsed": false
   },
   "outputs": [
    {
     "data": {
      "text/plain": [
       "[<matplotlib.lines.Line2D at 0x110ab8510>]"
      ]
     },
     "execution_count": 53,
     "metadata": {},
     "output_type": "execute_result"
    },
    {
     "data": {
      "image/png": "[encoded data removed]",
      "text/plain": [
       "<matplotlib.figure.Figure at 0x110ab22d0>"
      ]
     },
     "metadata": {},
     "output_type": "display_data"
    }
   ],
   "source": [
    "plt.plot(np.array(grid.cv_results_[\"param_n_neighbors\"]), grid.cv_results_[\"mean_test_score\"], '.r')"
   ]
  },
  {
   "cell_type": "code",
   "execution_count": 68,
   "metadata": {
    "collapsed": true
   },
   "outputs": [],
   "source": [
    "# Первая попытка:\n",
    "# - не самый лучший классификатор (n=50 лучшк)\n",
    "# - не использовалась вероятность\n",
    "knn = KNeighborsClassifier(n_neighbors=37) #best_n_neighbors\n",
    "knn.fit(x_train, y_train)\n",
    "y_test = knn.predict(x_test)\n",
    "res_df = pd.DataFrame(y_test, columns = ['y'])\n",
    "res_df.to_csv('res/002_knn_37.csv', sep=';', header=None, index=False)"
   ]
  },
  {
   "cell_type": "code",
   "execution_count": 66,
   "metadata": {
    "collapsed": false
   },
   "outputs": [],
   "source": [
    "knn = KNeighborsClassifier(n_neighbors=50)\n",
    "knn.fit(x_train, y_train)\n",
    "y_test = knn.predict_proba(x_test)[:,1]  # возвращается думерный массив, нас интересует 2-й стоблец\n",
    "res_df = pd.DataFrame(y_test, columns = ['y'])\n",
    "res_df.to_csv('res/002_knn_50.csv', sep=';', header=None, index=False)"
   ]
  }
 ],
 "metadata": {
  "kernelspec": {
   "display_name": "Python 2",
   "language": "python",
   "name": "python2"
  },
  "language_info": {
   "codemirror_mode": {
    "name": "ipython",
    "version": 2
   },
   "file_extension": ".py",
   "mimetype": "text/x-python",
   "name": "python",
   "nbconvert_exporter": "python",
   "pygments_lexer": "ipython2",
   "version": "2.7.13"
  }
 },
 "nbformat": 4,
 "nbformat_minor": 0
}
