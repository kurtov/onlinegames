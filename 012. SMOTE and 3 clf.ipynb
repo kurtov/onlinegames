{
 "cells": [
  {
   "cell_type": "code",
   "execution_count": 20,
   "metadata": {
    "collapsed": true
   },
   "outputs": [],
   "source": [
    "import numpy as np\n",
    "import pandas as pd\n",
    "import matplotlib.pyplot as plt\n",
    "from sklearn.svm import SVC\n",
    "from sklearn.neighbors import KNeighborsClassifier\n",
    "from sklearn.model_selection import GridSearchCV\n",
    "from sklearn.model_selection import cross_val_score\n",
    "from sklearn.ensemble import RandomForestClassifier\n",
    "from sklearn.ensemble import GradientBoostingClassifier\n",
    "from sklearn.metrics import log_loss\n",
    "from sklearn.calibration import CalibratedClassifierCV\n",
    "from sklearn.model_selection import KFold\n",
    "from sklearn.model_selection import StratifiedKFold\n",
    "\n",
    "plt.style.use('ggplot')\n",
    "%matplotlib inline\n",
    "\n",
    "x_train = pd.read_csv('data/x_train_norm.csv', sep=';', na_values='?')\n",
    "x_test = pd.read_csv('data/x_test_norm.csv', sep=';', na_values='?')\n",
    "y_train = pd.read_csv('data/y_train.csv', sep=';', header=None, na_values='?')[0]\n",
    "\n",
    "\n",
    "\n",
    "# import scipy as sp\n",
    "# def logloss(act, pred):\n",
    "#     epsilon = 1e-15\n",
    "#     pred = sp.maximum(epsilon, pred)\n",
    "#     pred = sp.minimum(1-epsilon, pred)\n",
    "#     ll = sum(act*sp.log(pred) + sp.subtract(1,act)*sp.log(sp.subtract(1,pred)))\n",
    "#     ll = ll * -1.0/len(act)\n",
    "#     return ll\n",
    "\n",
    "# def scorer_logloss(estimator, X, y):\n",
    "#     return logloss(y, estimator.predict_proba(X)[:,1])\n",
    "\n",
    "def scorer_logloss(estimator, X, y):\n",
    "    return log_loss(y, estimator.predict_proba(X)) # аналогично этому: estimator.predict_proba(X)[:,1]\n",
    "\n",
    "def revert_scorer_logloss(estimator, X, y):\n",
    "    return -1 * scorer_logloss(estimator, X, y)"
   ]
  },
  {
   "cell_type": "code",
   "execution_count": 2,
   "metadata": {
    "collapsed": false
   },
   "outputs": [
    {
     "ename": "ImportError",
     "evalue": "No module named imblearn.over_sampling",
     "output_type": "error",
     "traceback": [
      "\u001b[0;31m---------------------------------------------------------------------------\u001b[0m",
      "\u001b[0;31mImportError\u001b[0m                               Traceback (most recent call last)",
      "\u001b[0;32m<ipython-input-2-c10b847364e8>\u001b[0m in \u001b[0;36m<module>\u001b[0;34m()\u001b[0m\n\u001b[0;32m----> 1\u001b[0;31m \u001b[0;32mfrom\u001b[0m \u001b[0mimblearn\u001b[0m\u001b[0;34m.\u001b[0m\u001b[0mover_sampling\u001b[0m \u001b[0;32mimport\u001b[0m \u001b[0mSMOTE\u001b[0m\u001b[0;34m\u001b[0m\u001b[0m\n\u001b[0m",
      "\u001b[0;31mImportError\u001b[0m: No module named imblearn.over_sampling"
     ]
    }
   ],
   "source": [
    "from imblearn.over_sampling import SMOTE "
   ]
  },
  {
   "cell_type": "code",
   "execution_count": 3,
   "metadata": {
    "collapsed": true
   },
   "outputs": [],
   "source": [
    "sm = SMOTE(random_state=42)\n",
    "X_res, y_res = sm.fit_sample(x_train, y_train)"
   ]
  },
  {
   "cell_type": "code",
   "execution_count": 5,
   "metadata": {
    "collapsed": false
   },
   "outputs": [
    {
     "data": {
      "text/plain": [
       "36002"
      ]
     },
     "execution_count": 5,
     "metadata": {},
     "output_type": "execute_result"
    }
   ],
   "source": [
    "len(y_res)"
   ]
  },
  {
   "cell_type": "code",
   "execution_count": 5,
   "metadata": {
    "collapsed": false
   },
   "outputs": [
    {
     "data": {
      "text/plain": [
       "GradientBoostingClassifier(criterion='friedman_mse', init=None,\n",
       "              learning_rate=0.00666666666667, loss='deviance', max_depth=9,\n",
       "              max_features=3, max_leaf_nodes=None,\n",
       "              min_impurity_split=1e-07, min_samples_leaf=50,\n",
       "              min_samples_split=950, min_weight_fraction_leaf=0.0,\n",
       "              n_estimators=975, presort='auto', random_state=11,\n",
       "              subsample=0.8, verbose=0, warm_start=False)"
      ]
     },
     "execution_count": 5,
     "metadata": {},
     "output_type": "execute_result"
    }
   ],
   "source": [
    "classifier = GradientBoostingClassifier(learning_rate=0.02/3, # 0.00(6)\n",
    "                                        n_estimators=975,\n",
    "                                        subsample=0.8,\n",
    "                                        min_samples_split=950,\n",
    "                                        min_samples_leaf=50,\n",
    "                                        max_depth=9,\n",
    "                                        max_features=3,\n",
    "                                        random_state=11)\n",
    "classifier.fit(x_train, y_train)"
   ]
  },
  {
   "cell_type": "code",
   "execution_count": null,
   "metadata": {
    "collapsed": true
   },
   "outputs": [],
   "source": [
    "classifier = GradientBoostingClassifier(learning_rate=0.02/3, # 0.00(6)\n",
    "                                        n_estimators=975,\n",
    "                                        subsample=0.8,\n",
    "                                        min_samples_split=950,\n",
    "                                        min_samples_leaf=50,\n",
    "                                        max_depth=9,\n",
    "                                        max_features=3,\n",
    "                                        random_state=11)\n",
    "classifier.fit(X_res, y_res)"
   ]
  },
  {
   "cell_type": "code",
   "execution_count": 7,
   "metadata": {
    "collapsed": false
   },
   "outputs": [
    {
     "data": {
      "text/plain": [
       "array([-0.4582429 , -0.35549983, -0.35340366])"
      ]
     },
     "execution_count": 7,
     "metadata": {},
     "output_type": "execute_result"
    }
   ],
   "source": [
    "cross_val_score(classifier, X_res, y_res, scoring='neg_log_loss')"
   ]
  },
  {
   "cell_type": "code",
   "execution_count": 21,
   "metadata": {
    "collapsed": false
   },
   "outputs": [
    {
     "name": "stdout",
     "output_type": "stream",
     "text": [
      "-0.370258277033 [-0.36636891 -0.37177761 -0.37262831]\n",
      "-0.381166034907 [-0.37258293 -0.38214301 -0.38877216]\n"
     ]
    }
   ],
   "source": [
    "cv = cross_val_score(classifier, X_res, y_res, scoring='neg_log_loss', cv=StratifiedKFold(n_splits=3, shuffle=True, random_state=5))\n",
    "print np.mean(cv), cv\n",
    "cv = cross_val_score(classifier, x_train, y_train, scoring='neg_log_loss', cv=StratifiedKFold(n_splits=3, shuffle=True, random_state=5))\n",
    "print np.mean(cv), cv"
   ]
  },
  {
   "cell_type": "code",
   "execution_count": 11,
   "metadata": {
    "collapsed": true
   },
   "outputs": [],
   "source": [
    "y_test = classifier.predict_proba(x_test)[:,1]\n",
    "res_df = pd.DataFrame(y_test, columns = ['y'])\n",
    "res_df.to_csv('res/012_smote_1.csv', sep=';', header=None, index=False)"
   ]
  },
  {
   "cell_type": "code",
   "execution_count": 12,
   "metadata": {
    "collapsed": true
   },
   "outputs": [],
   "source": [
    "def drow_scatter(x, y, feature1, feature2, split=False):\n",
    "    data_drow=pd.concat((x[feature1], x[feature2], y), axis=1)\n",
    "    data_drow.columns=[feature1,feature2,'class']\n",
    "\n",
    "    plt.figure(figsize=(10, 6))\n",
    "\n",
    "    if split:\n",
    "        plt.subplot(1, 2, 1)\n",
    "\n",
    "    plt.scatter(data_drow[feature1][data_drow['class'] == 1],\n",
    "                data_drow[feature2][data_drow['class'] == 1],\n",
    "                alpha=0.75,\n",
    "                color='red',\n",
    "                label='1')\n",
    "\n",
    "    if split:\n",
    "        plt.subplot(1, 2, 2)\n",
    "    plt.scatter(data_drow[feature1][data_drow['class'] == 0],\n",
    "                data_drow[feature2][data_drow['class'] == 0],\n",
    "                alpha=0.75,\n",
    "                color='blue',\n",
    "                label='0')\n",
    "\n",
    "    plt.xlabel(feature1)\n",
    "    plt.ylabel(feature2)\n",
    "    plt.legend(loc='best');"
   ]
  },
  {
   "cell_type": "code",
   "execution_count": 22,
   "metadata": {
    "collapsed": false
   },
   "outputs": [
    {
     "data": {
      "image/png": "[encoded data removed]",
      "text/plain": [
       "<matplotlib.figure.Figure at 0x1170e0f50>"
      ]
     },
     "metadata": {},
     "output_type": "display_data"
    },
    {
     "data": {
      "image/png": "[encoded data removed]",
      "text/plain": [
       "<matplotlib.figure.Figure at 0x1187e7890>"
      ]
     },
     "metadata": {},
     "output_type": "display_data"
    }
   ],
   "source": [
    "X_res=pd.DataFrame(X_res, columns=x_train.columns)\n",
    "y_res = pd.Series(y_res)\n",
    "drow_scatter(X_res, y_res, 'numberOfDaysActuallyPlayed', 'numberOfAttemptedLevels', True)\n",
    "drow_scatter(x_train, y_train, 'numberOfDaysActuallyPlayed', 'numberOfAttemptedLevels', True)"
   ]
  },
  {
   "cell_type": "code",
   "execution_count": null,
   "metadata": {
    "collapsed": true
   },
   "outputs": [],
   "source": []
  },
  {
   "cell_type": "code",
   "execution_count": null,
   "metadata": {
    "collapsed": true
   },
   "outputs": [],
   "source": []
  },
  {
   "cell_type": "code",
   "execution_count": 23,
   "metadata": {
    "collapsed": true
   },
   "outputs": [],
   "source": [
    "from sklearn.decomposition import PCA\n",
    "pca = PCA(n_components=2)\n",
    "# Fit and transform x to visualise inside a 2D feature space\n",
    "X_vis = pca.fit_transform(x_train)"
   ]
  },
  {
   "cell_type": "code",
   "execution_count": 26,
   "metadata": {
    "collapsed": false
   },
   "outputs": [],
   "source": [
    "X_vis=pd.DataFrame(X_vis, columns=['f1', 'f2'])"
   ]
  },
  {
   "cell_type": "code",
   "execution_count": 29,
   "metadata": {
    "collapsed": false
   },
   "outputs": [
    {
     "data": {
      "image/png": "[encoded data removed]",
      "text/plain": [
       "<matplotlib.figure.Figure at 0x1170c8f90>"
      ]
     },
     "metadata": {},
     "output_type": "display_data"
    }
   ],
   "source": [
    "drow_scatter(X_vis, y_train, 'f1', 'f2', True)"
   ]
  },
  {
   "cell_type": "code",
   "execution_count": 7,
   "metadata": {
    "collapsed": true
   },
   "outputs": [],
   "source": [
    "xx_train = pd.read_csv('data/x_train.csv', sep=';', na_values='?')\n",
    "xx_test = pd.read_csv('data/x_test.csv', sep=';', na_values='?')"
   ]
  },
  {
   "cell_type": "code",
   "execution_count": 8,
   "metadata": {
    "collapsed": false
   },
   "outputs": [],
   "source": [
    "xx_train['y']=y_train\n",
    "total = xx_train.groupby(['numberOfDaysActuallyPlayed']).size()\n",
    "total=pd.DataFrame(total, columns=['total'])"
   ]
  },
  {
   "cell_type": "code",
   "execution_count": 101,
   "metadata": {
    "collapsed": false
   },
   "outputs": [],
   "source": [
    "#xx_train[new]\n",
    "y1=xx_train[['numberOfDaysActuallyPlayed', 'y']].groupby(['numberOfDaysActuallyPlayed']).sum()\n",
    "y1=pd.Series(y1['y'], name='y1') #, index=y1['numberOfDaysActuallyPlayed'])"
   ]
  },
  {
   "cell_type": "code",
   "execution_count": 105,
   "metadata": {
    "collapsed": false
   },
   "outputs": [
    {
     "ename": "TypeError",
     "evalue": "concat() got an unexpected keyword argument 'columns'",
     "output_type": "error",
     "traceback": [
      "\u001b[0;31m---------------------------------------------------------------------------\u001b[0m",
      "\u001b[0;31mTypeError\u001b[0m                                 Traceback (most recent call last)",
      "\u001b[0;32m<ipython-input-105-afbfa5fb5b39>\u001b[0m in \u001b[0;36m<module>\u001b[0;34m()\u001b[0m\n\u001b[0;32m----> 1\u001b[0;31m \u001b[0mtotal\u001b[0m \u001b[0;34m=\u001b[0m \u001b[0mpd\u001b[0m\u001b[0;34m.\u001b[0m\u001b[0mconcat\u001b[0m\u001b[0;34m(\u001b[0m\u001b[0;34m[\u001b[0m\u001b[0mtotal\u001b[0m\u001b[0;34m,\u001b[0m \u001b[0my1\u001b[0m\u001b[0;34m]\u001b[0m\u001b[0;34m,\u001b[0m \u001b[0mcolumns\u001b[0m\u001b[0;34m=\u001b[0m\u001b[0;34m[\u001b[0m\u001b[0;34m'total'\u001b[0m\u001b[0;34m,\u001b[0m \u001b[0;34m'y1'\u001b[0m\u001b[0;34m]\u001b[0m\u001b[0;34m,\u001b[0m \u001b[0maxis\u001b[0m\u001b[0;34m=\u001b[0m\u001b[0;36m1\u001b[0m\u001b[0;34m)\u001b[0m\u001b[0;34m\u001b[0m\u001b[0m\n\u001b[0m",
      "\u001b[0;31mTypeError\u001b[0m: concat() got an unexpected keyword argument 'columns'"
     ]
    }
   ],
   "source": [
    "total = pd.concat([total, y1], columns=['total', 'y1'], axis=1)"
   ]
  },
  {
   "cell_type": "code",
   "execution_count": 103,
   "metadata": {
    "collapsed": false
   },
   "outputs": [],
   "source": [
    "#total#['0']\n",
    "total['y0']=total['total']-total['y1']"
   ]
  },
  {
   "cell_type": "code",
   "execution_count": 93,
   "metadata": {
    "collapsed": true
   },
   "outputs": [
    {
     "data": {
      "text/html": [
       "<div>\n",
       "<table border=\"1\" class=\"dataframe\">\n",
       "  <thead>\n",
       "    <tr style=\"text-align: right;\">\n",
       "      <th></th>\n",
       "      <th>total</th>\n",
       "      <th>y</th>\n",
       "      <th>y0</th>\n",
       "    </tr>\n",
       "    <tr>\n",
       "      <th>numberOfDaysActuallyPlayed</th>\n",
       "      <th></th>\n",
       "      <th></th>\n",
       "      <th></th>\n",
       "    </tr>\n",
       "  </thead>\n",
       "  <tbody>\n",
       "    <tr>\n",
       "      <th>1</th>\n",
       "      <td>13373</td>\n",
       "      <td>921</td>\n",
       "      <td>12452</td>\n",
       "    </tr>\n",
       "    <tr>\n",
       "      <th>2</th>\n",
       "      <td>3670</td>\n",
       "      <td>954</td>\n",
       "      <td>2716</td>\n",
       "    </tr>\n",
       "    <tr>\n",
       "      <th>3</th>\n",
       "      <td>2211</td>\n",
       "      <td>963</td>\n",
       "      <td>1248</td>\n",
       "    </tr>\n",
       "    <tr>\n",
       "      <th>4</th>\n",
       "      <td>1507</td>\n",
       "      <td>892</td>\n",
       "      <td>615</td>\n",
       "    </tr>\n",
       "    <tr>\n",
       "      <th>5</th>\n",
       "      <td>1147</td>\n",
       "      <td>794</td>\n",
       "      <td>353</td>\n",
       "    </tr>\n",
       "    <tr>\n",
       "      <th>6</th>\n",
       "      <td>662</td>\n",
       "      <td>482</td>\n",
       "      <td>180</td>\n",
       "    </tr>\n",
       "    <tr>\n",
       "      <th>7</th>\n",
       "      <td>581</td>\n",
       "      <td>433</td>\n",
       "      <td>148</td>\n",
       "    </tr>\n",
       "    <tr>\n",
       "      <th>8</th>\n",
       "      <td>457</td>\n",
       "      <td>365</td>\n",
       "      <td>92</td>\n",
       "    </tr>\n",
       "    <tr>\n",
       "      <th>9</th>\n",
       "      <td>432</td>\n",
       "      <td>348</td>\n",
       "      <td>84</td>\n",
       "    </tr>\n",
       "    <tr>\n",
       "      <th>10</th>\n",
       "      <td>396</td>\n",
       "      <td>327</td>\n",
       "      <td>69</td>\n",
       "    </tr>\n",
       "    <tr>\n",
       "      <th>11</th>\n",
       "      <td>322</td>\n",
       "      <td>293</td>\n",
       "      <td>29</td>\n",
       "    </tr>\n",
       "    <tr>\n",
       "      <th>12</th>\n",
       "      <td>268</td>\n",
       "      <td>255</td>\n",
       "      <td>13</td>\n",
       "    </tr>\n",
       "    <tr>\n",
       "      <th>13</th>\n",
       "      <td>178</td>\n",
       "      <td>176</td>\n",
       "      <td>2</td>\n",
       "    </tr>\n",
       "    <tr>\n",
       "      <th>14</th>\n",
       "      <td>85</td>\n",
       "      <td>85</td>\n",
       "      <td>0</td>\n",
       "    </tr>\n",
       "  </tbody>\n",
       "</table>\n",
       "</div>"
      ],
      "text/plain": [
       "                            total    y     y0\n",
       "numberOfDaysActuallyPlayed                   \n",
       "1                           13373  921  12452\n",
       "2                            3670  954   2716\n",
       "3                            2211  963   1248\n",
       "4                            1507  892    615\n",
       "5                            1147  794    353\n",
       "6                             662  482    180\n",
       "7                             581  433    148\n",
       "8                             457  365     92\n",
       "9                             432  348     84\n",
       "10                            396  327     69\n",
       "11                            322  293     29\n",
       "12                            268  255     13\n",
       "13                            178  176      2\n",
       "14                             85   85      0"
      ]
     },
     "execution_count": 93,
     "metadata": {},
     "output_type": "execute_result"
    }
   ],
   "source": [
    "total"
   ]
  },
  {
   "cell_type": "code",
   "execution_count": 112,
   "metadata": {
    "collapsed": false
   },
   "outputs": [
    {
     "data": {
      "text/plain": [
       "y\n",
       "0    12452\n",
       "1      921\n",
       "dtype: int64"
      ]
     },
     "execution_count": 112,
     "metadata": {},
     "output_type": "execute_result"
    }
   ],
   "source": [
    "xx_train[xx_train['numberOfDaysActuallyPlayed']==1].groupby(['y']).size()"
   ]
  },
  {
   "cell_type": "code",
   "execution_count": 114,
   "metadata": {
    "collapsed": false
   },
   "outputs": [
    {
     "data": {
      "text/plain": [
       "y\n",
       "0    5549\n",
       "1    6282\n",
       "dtype: int64"
      ]
     },
     "execution_count": 114,
     "metadata": {},
     "output_type": "execute_result"
    }
   ],
   "source": [
    "xx_train[(xx_train['numberOfDaysActuallyPlayed']>1)&(xx_train['numberOfDaysActuallyPlayed']<14)].groupby(['y']).size()"
   ]
  },
  {
   "cell_type": "code",
   "execution_count": 115,
   "metadata": {
    "collapsed": true
   },
   "outputs": [],
   "source": [
    "#2..13"
   ]
  },
  {
   "cell_type": "code",
   "execution_count": 120,
   "metadata": {
    "collapsed": false
   },
   "outputs": [],
   "source": [
    "idx=xx_train[(xx_train['numberOfDaysActuallyPlayed']>1)&(xx_train['numberOfDaysActuallyPlayed']<14)].index\n",
    "#x_train[xx_train[(xx_train['numberOfDaysActuallyPlayed']>1)&(xx_train['numberOfDaysActuallyPlayed']<14)].index]"
   ]
  },
  {
   "cell_type": "code",
   "execution_count": 9,
   "metadata": {
    "collapsed": false
   },
   "outputs": [],
   "source": [
    "types=pd.Series(np.zeros(x_train.shape[0]), dtype=int)\n",
    "types[xx_train[(xx_train['numberOfDaysActuallyPlayed']>1)&(xx_train['numberOfDaysActuallyPlayed']<14)].index]=1\n",
    "types[xx_train[xx_train['numberOfDaysActuallyPlayed']==14].index]=2\n",
    "\n",
    "test_types=pd.Series(np.zeros(x_test.shape[0]), dtype=int)\n",
    "test_types[xx_test[(xx_test['numberOfDaysActuallyPlayed']>1)&(xx_test['numberOfDaysActuallyPlayed']<14)].index]=1\n",
    "test_types[xx_test[xx_test['numberOfDaysActuallyPlayed']==14].index]=2"
   ]
  },
  {
   "cell_type": "code",
   "execution_count": 197,
   "metadata": {
    "collapsed": false
   },
   "outputs": [],
   "source": [
    "#1\n",
    "xxx_train=x_train.loc[types[types==1].index]\n",
    "yyy_train=y_train.loc[types[types==1].index]\n",
    "\n",
    "xxx_train=xxx_train.reset_index(drop=True)\n",
    "yyy_train=yyy_train.reset_index(drop=True)"
   ]
  },
  {
   "cell_type": "code",
   "execution_count": null,
   "metadata": {
    "collapsed": true
   },
   "outputs": [],
   "source": []
  },
  {
   "cell_type": "code",
   "execution_count": 24,
   "metadata": {
    "collapsed": true
   },
   "outputs": [],
   "source": [
    "def fit(X, y, grid_params, clf_params, fit_params={}):\n",
    "    estimator = GradientBoostingClassifier(**clf_params)\n",
    "    grid = GridSearchCV(\n",
    "        estimator=estimator, \n",
    "        param_grid = params,\n",
    "        fit_params=fit_params,\n",
    "        scoring='neg_log_loss',\n",
    "        n_jobs=4,\n",
    "        iid=False,\n",
    "        cv=StratifiedKFold(n_splits=5, shuffle=True, random_state=5))\n",
    "\n",
    "    grid.fit(xxx_train, yyy_train)\n",
    "    print grid.best_params_, -grid.best_score_\n",
    "    return grid.best_params_"
   ]
  },
  {
   "cell_type": "code",
   "execution_count": 214,
   "metadata": {
    "collapsed": false
   },
   "outputs": [
    {
     "data": {
      "text/plain": [
       "{'learning_rate': 0.1,\n",
       " 'max_depth': 8,\n",
       " 'max_features': 'sqrt',\n",
       " 'min_samples_leaf': 50,\n",
       " 'min_samples_split': 500,\n",
       " 'n_estimators': 100,\n",
       " 'random_state': 11,\n",
       " 'subsample': 0.8}"
      ]
     },
     "execution_count": 214,
     "metadata": {},
     "output_type": "execute_result"
    }
   ],
   "source": [
    "opt_params={}\n",
    "\n",
    "default_params={\n",
    "    'n_estimators':47,\n",
    "    'learning_rate':0.1,\n",
    "    'min_samples_split':500,\n",
    "    'min_samples_leaf':50,\n",
    "    'max_depth':8,\n",
    "    'max_features':'sqrt',\n",
    "    'subsample':0.8,\n",
    "    'random_state':11    \n",
    "}\n",
    "\n",
    "\n",
    "# default_params={'learning_rate': 0.01,\n",
    "#  'max_depth': 8,\n",
    "#  'max_features': 3,\n",
    "#  'min_samples_leaf': 50,\n",
    "#  'min_samples_split': 875,\n",
    "#  'n_estimators': 590,\n",
    "#  'random_state': 11,\n",
    "#  'subsample': 0.80000000000000027}\n",
    "\n",
    "opt_params=dict(opt_params, **opt_fit_params)\n",
    "clf_params=dict(default_params, **opt_params)\n",
    "clf_params"
   ]
  },
  {
   "cell_type": "code",
   "execution_count": null,
   "metadata": {
    "collapsed": true
   },
   "outputs": [],
   "source": []
  },
  {
   "cell_type": "code",
   "execution_count": 216,
   "metadata": {
    "collapsed": false
   },
   "outputs": [
    {
     "name": "stdout",
     "output_type": "stream",
     "text": [
      "{'n_estimators': 47} 0.559387892073\n"
     ]
    },
    {
     "data": {
      "text/plain": [
       "{'learning_rate': 0.1,\n",
       " 'max_depth': 8,\n",
       " 'max_features': 'sqrt',\n",
       " 'min_samples_leaf': 50,\n",
       " 'min_samples_split': 500,\n",
       " 'n_estimators': 47,\n",
       " 'random_state': 11,\n",
       " 'subsample': 0.8}"
      ]
     },
     "execution_count": 216,
     "metadata": {},
     "output_type": "execute_result"
    }
   ],
   "source": [
    "params = {'n_estimators':np.concatenate((range(10,101,10), range(41,50), range(51,60)))}\n",
    "opt_fit_params = fit(xxx_train, yyy_train, params, clf_params)\n",
    "\n",
    "opt_params=dict(opt_params, **opt_fit_params)\n",
    "clf_params=dict(default_params, **opt_params)\n",
    "clf_params"
   ]
  },
  {
   "cell_type": "code",
   "execution_count": 218,
   "metadata": {
    "collapsed": false
   },
   "outputs": [
    {
     "name": "stdout",
     "output_type": "stream",
     "text": [
      "{'min_samples_split': 800, 'max_depth': 7} 0.558448811771\n"
     ]
    },
    {
     "data": {
      "text/plain": [
       "{'learning_rate': 0.1,\n",
       " 'max_depth': 7,\n",
       " 'max_features': 'sqrt',\n",
       " 'min_samples_leaf': 50,\n",
       " 'min_samples_split': 800,\n",
       " 'n_estimators': 47,\n",
       " 'random_state': 11,\n",
       " 'subsample': 0.8}"
      ]
     },
     "execution_count": 218,
     "metadata": {},
     "output_type": "execute_result"
    }
   ],
   "source": [
    "params = {'max_depth':range(5,16,2),\n",
    "          'min_samples_split':range(200,1001,200)}\n",
    "\n",
    "opt_fit_params = fit(xxx_train, yyy_train, params, clf_params)\n",
    "\n",
    "opt_params=dict(opt_params, **opt_fit_params)\n",
    "clf_params=dict(default_params, **opt_params)\n",
    "clf_params"
   ]
  },
  {
   "cell_type": "code",
   "execution_count": 219,
   "metadata": {
    "collapsed": false
   },
   "outputs": [
    {
     "name": "stdout",
     "output_type": "stream",
     "text": [
      "{'min_samples_split': 875, 'max_depth': 8} 0.557980032562\n"
     ]
    },
    {
     "data": {
      "text/plain": [
       "{'learning_rate': 0.1,\n",
       " 'max_depth': 8,\n",
       " 'max_features': 'sqrt',\n",
       " 'min_samples_leaf': 50,\n",
       " 'min_samples_split': 875,\n",
       " 'n_estimators': 47,\n",
       " 'random_state': 11,\n",
       " 'subsample': 0.8}"
      ]
     },
     "execution_count": 219,
     "metadata": {},
     "output_type": "execute_result"
    }
   ],
   "source": [
    "max_depth_opt = 7\n",
    "min_samples_split_opt = 800\n",
    "\n",
    "params = {'max_depth': range(max_depth_opt-2,max_depth_opt+3),\n",
    "          'min_samples_split':range(min_samples_split_opt-200, min_samples_split_opt+201,25)}\n",
    "\n",
    "opt_fit_params = fit(xxx_train, yyy_train, params, clf_params)\n",
    "\n",
    "opt_params=dict(opt_params, **opt_fit_params)\n",
    "clf_params=dict(default_params, **opt_params)\n",
    "clf_params"
   ]
  },
  {
   "cell_type": "code",
   "execution_count": 220,
   "metadata": {
    "collapsed": false
   },
   "outputs": [
    {
     "name": "stdout",
     "output_type": "stream",
     "text": [
      "{'min_samples_leaf': 50} 0.557980032562\n"
     ]
    },
    {
     "data": {
      "text/plain": [
       "{'learning_rate': 0.1,\n",
       " 'max_depth': 8,\n",
       " 'max_features': 'sqrt',\n",
       " 'min_samples_leaf': 50,\n",
       " 'min_samples_split': 875,\n",
       " 'n_estimators': 47,\n",
       " 'random_state': 11,\n",
       " 'subsample': 0.8}"
      ]
     },
     "execution_count": 220,
     "metadata": {},
     "output_type": "execute_result"
    }
   ],
   "source": [
    "params={'min_samples_leaf':range(20,81,10)}\n",
    "opt_fit_params = fit(xxx_train, yyy_train, params, clf_params)\n",
    "\n",
    "opt_params=dict(opt_params, **opt_fit_params)\n",
    "clf_params=dict(default_params, **opt_params)\n",
    "clf_params"
   ]
  },
  {
   "cell_type": "code",
   "execution_count": 221,
   "metadata": {
    "collapsed": false
   },
   "outputs": [
    {
     "name": "stdout",
     "output_type": "stream",
     "text": [
      "{'max_features': 3} 0.557980032562\n"
     ]
    },
    {
     "data": {
      "text/plain": [
       "{'learning_rate': 0.1,\n",
       " 'max_depth': 8,\n",
       " 'max_features': 3,\n",
       " 'min_samples_leaf': 50,\n",
       " 'min_samples_split': 875,\n",
       " 'n_estimators': 47,\n",
       " 'random_state': 11,\n",
       " 'subsample': 0.8}"
      ]
     },
     "execution_count": 221,
     "metadata": {},
     "output_type": "execute_result"
    }
   ],
   "source": [
    "params = {'max_features':range(2,13)}\n",
    "opt_fit_params = fit(xxx_train, yyy_train, params, clf_params)\n",
    "\n",
    "opt_params=dict(opt_params, **opt_fit_params)\n",
    "clf_params=dict(default_params, **opt_params)\n",
    "clf_params"
   ]
  },
  {
   "cell_type": "code",
   "execution_count": 222,
   "metadata": {
    "collapsed": false
   },
   "outputs": [
    {
     "name": "stdout",
     "output_type": "stream",
     "text": [
      "{'n_estimators': 59} 0.557870342673\n"
     ]
    },
    {
     "data": {
      "text/plain": [
       "{'learning_rate': 0.1,\n",
       " 'max_depth': 8,\n",
       " 'max_features': 3,\n",
       " 'min_samples_leaf': 50,\n",
       " 'min_samples_split': 875,\n",
       " 'n_estimators': 59,\n",
       " 'random_state': 11,\n",
       " 'subsample': 0.8}"
      ]
     },
     "execution_count": 222,
     "metadata": {},
     "output_type": "execute_result"
    }
   ],
   "source": [
    "params = {'n_estimators':range(55, 61)}\n",
    "opt_fit_params = fit(xxx_train, yyy_train, params, clf_params)\n",
    "\n",
    "opt_params=dict(opt_params, **opt_fit_params)\n",
    "clf_params=dict(default_params, **opt_params)\n",
    "clf_params"
   ]
  },
  {
   "cell_type": "code",
   "execution_count": 223,
   "metadata": {
    "collapsed": false
   },
   "outputs": [
    {
     "name": "stdout",
     "output_type": "stream",
     "text": [
      "{'subsample': 0.80000000000000027} 0.557870342673\n"
     ]
    },
    {
     "data": {
      "text/plain": [
       "{'learning_rate': 0.1,\n",
       " 'max_depth': 8,\n",
       " 'max_features': 3,\n",
       " 'min_samples_leaf': 50,\n",
       " 'min_samples_split': 875,\n",
       " 'n_estimators': 59,\n",
       " 'random_state': 11,\n",
       " 'subsample': 0.80000000000000027}"
      ]
     },
     "execution_count": 223,
     "metadata": {},
     "output_type": "execute_result"
    }
   ],
   "source": [
    "params = {'subsample': np.arange(0.5,0.9,0.1/5.0)}\n",
    "opt_fit_params = fit(xxx_train, yyy_train, params, clf_params)\n",
    "\n",
    "opt_params=dict(opt_params, **opt_fit_params)\n",
    "clf_params=dict(default_params, **opt_params)\n",
    "clf_params"
   ]
  },
  {
   "cell_type": "code",
   "execution_count": 224,
   "metadata": {
    "collapsed": false
   },
   "outputs": [
    {
     "name": "stdout",
     "output_type": "stream",
     "text": [
      "{'n_estimators': 590, 'learning_rate': 0.01} 0.557814974389\n"
     ]
    },
    {
     "data": {
      "text/plain": [
       "{'learning_rate': 0.01,\n",
       " 'max_depth': 8,\n",
       " 'max_features': 3,\n",
       " 'min_samples_leaf': 50,\n",
       " 'min_samples_split': 875,\n",
       " 'n_estimators': 590,\n",
       " 'random_state': 11,\n",
       " 'subsample': 0.80000000000000027}"
      ]
     },
     "execution_count": 224,
     "metadata": {},
     "output_type": "execute_result"
    }
   ],
   "source": [
    "learning_rate=0.1\n",
    "n_estimators=59\n",
    "fractions=np.array([0.5,1,5,10,15,20,25,30])\n",
    "\n",
    "params=[{'learning_rate': [learning_rate/frac], 'n_estimators': [int(n_estimators*frac)]} for frac in fractions]\n",
    "opt_fit_params = fit(xxx_train, yyy_train, params, clf_params)\n",
    "\n",
    "opt_params=dict(opt_params, **opt_fit_params)\n",
    "clf_params=dict(default_params, **opt_params)\n",
    "clf_params"
   ]
  },
  {
   "cell_type": "code",
   "execution_count": null,
   "metadata": {
    "collapsed": true
   },
   "outputs": [],
   "source": []
  },
  {
   "cell_type": "code",
   "execution_count": null,
   "metadata": {
    "collapsed": true
   },
   "outputs": [],
   "source": []
  },
  {
   "cell_type": "code",
   "execution_count": null,
   "metadata": {
    "collapsed": true
   },
   "outputs": [],
   "source": [
    "clf_params={'learning_rate': 0.01,\n",
    " 'max_depth': 8,\n",
    " 'max_features': 3,\n",
    " 'min_samples_leaf': 50,\n",
    " 'min_samples_split': 875,\n",
    " 'n_estimators': 590,\n",
    " 'random_state': 11,\n",
    " 'subsample': 0.80000000000000027}"
   ]
  },
  {
   "cell_type": "code",
   "execution_count": null,
   "metadata": {
    "collapsed": true
   },
   "outputs": [],
   "source": []
  },
  {
   "cell_type": "code",
   "execution_count": 189,
   "metadata": {
    "collapsed": false
   },
   "outputs": [
    {
     "name": "stdout",
     "output_type": "stream",
     "text": [
      "-0.558153938603 [-0.56132644 -0.55817818 -0.5549572 ]\n"
     ]
    }
   ],
   "source": [
    "cv = cross_val_score(classifier, xxx_train, yyy_train, scoring='neg_log_loss', cv=StratifiedKFold(n_splits=3, shuffle=True, random_state=5))\n",
    "print np.mean(cv), cv\n",
    "\n",
    "cv = cross_val_score(GradientBoostingClassifier(**clf_params),\n",
    "    xxx_train, yyy_train, scoring='neg_log_loss', cv=StratifiedKFold(n_splits=3, shuffle=True, random_state=5))\n",
    "print np.mean(cv), cv"
   ]
  },
  {
   "cell_type": "code",
   "execution_count": 209,
   "metadata": {
    "collapsed": false
   },
   "outputs": [],
   "source": []
  },
  {
   "cell_type": "code",
   "execution_count": 234,
   "metadata": {
    "collapsed": true
   },
   "outputs": [],
   "source": [
    "max_depth_opt = 7\n",
    "min_samples_split_opt = 800\n",
    "\n",
    "learning_rate=0.1\n",
    "n_estimators=59\n",
    "fractions=np.array([0.5,1,5,10,15,20,25,30])\n",
    "\n",
    "super_params = [\n",
    "    {'n_estimators':np.concatenate((range(10,101,10), range(41,50), range(51,60)))},\n",
    "    {\n",
    "        'max_depth':range(5,16,2),\n",
    "        'min_samples_split':range(200,1001,200)\n",
    "    },     \n",
    "    {\n",
    "        'max_depth': range(max_depth_opt-2,max_depth_opt+3),\n",
    "        'min_samples_split':range(min_samples_split_opt-200, min_samples_split_opt+201,25)\n",
    "    },\n",
    "    {'min_samples_leaf':range(20,81,10)},\n",
    "    {'max_features':range(2,13)},\n",
    "    {'n_estimators':range(n_estimators-10, n_estimators+10)},\n",
    "    {'subsample': np.arange(0.5,0.9,0.1/5.0)},\n",
    "    [{'learning_rate': [learning_rate/frac], 'n_estimators': [int(n_estimators*frac)]} for frac in fractions]\n",
    "]"
   ]
  },
  {
   "cell_type": "code",
   "execution_count": 235,
   "metadata": {
    "collapsed": false
   },
   "outputs": [
    {
     "data": {
      "text/plain": [
       "{'learning_rate': 0.1,\n",
       " 'max_depth': 8,\n",
       " 'max_features': 'sqrt',\n",
       " 'min_samples_leaf': 50,\n",
       " 'min_samples_split': 500,\n",
       " 'n_estimators': 100,\n",
       " 'random_state': 11,\n",
       " 'subsample': 0.8}"
      ]
     },
     "execution_count": 235,
     "metadata": {},
     "output_type": "execute_result"
    }
   ],
   "source": [
    "opt_params={}\n",
    "\n",
    "default_params={\n",
    "    'n_estimators':47,\n",
    "    'learning_rate':0.1,\n",
    "    'min_samples_split':500,\n",
    "    'min_samples_leaf':50,\n",
    "    'max_depth':8,\n",
    "    'max_features':'sqrt',\n",
    "    'subsample':0.8,\n",
    "    'random_state':11    \n",
    "}\n",
    "\n",
    "opt_params=dict(opt_params, **opt_fit_params)\n",
    "clf_params=dict(default_params, **opt_params)\n",
    "clf_params"
   ]
  },
  {
   "cell_type": "code",
   "execution_count": 236,
   "metadata": {
    "collapsed": false
   },
   "outputs": [
    {
     "name": "stdout",
     "output_type": "stream",
     "text": [
      "{'n_estimators': 47} 0.559387892073\n",
      "{'learning_rate': 0.1, 'min_samples_leaf': 50, 'n_estimators': 47, 'subsample': 0.8, 'random_state': 11, 'max_features': 'sqrt', 'min_samples_split': 500, 'max_depth': 8}\n",
      "{'min_samples_split': 800, 'max_depth': 7} 0.558448811771\n",
      "{'learning_rate': 0.1, 'min_samples_leaf': 50, 'n_estimators': 47, 'subsample': 0.8, 'random_state': 11, 'max_features': 'sqrt', 'min_samples_split': 800, 'max_depth': 7}\n",
      "{'min_samples_split': 875, 'max_depth': 8} 0.557980032562\n",
      "{'learning_rate': 0.1, 'min_samples_leaf': 50, 'n_estimators': 47, 'subsample': 0.8, 'random_state': 11, 'max_features': 'sqrt', 'min_samples_split': 875, 'max_depth': 8}\n",
      "{'min_samples_leaf': 50} 0.557980032562\n",
      "{'learning_rate': 0.1, 'min_samples_leaf': 50, 'n_estimators': 47, 'subsample': 0.8, 'random_state': 11, 'max_features': 'sqrt', 'min_samples_split': 875, 'max_depth': 8}\n",
      "{'max_features': 3} 0.557980032562\n",
      "{'learning_rate': 0.1, 'min_samples_leaf': 50, 'n_estimators': 47, 'subsample': 0.8, 'random_state': 11, 'max_features': 3, 'min_samples_split': 875, 'max_depth': 8}\n",
      "{'n_estimators': 59} 0.557870342673\n",
      "{'learning_rate': 0.1, 'min_samples_leaf': 50, 'n_estimators': 59, 'subsample': 0.8, 'random_state': 11, 'max_features': 3, 'min_samples_split': 875, 'max_depth': 8}\n",
      "{'subsample': 0.80000000000000027} 0.557870342673\n",
      "{'learning_rate': 0.1, 'min_samples_leaf': 50, 'n_estimators': 59, 'subsample': 0.80000000000000027, 'random_state': 11, 'max_features': 3, 'min_samples_split': 875, 'max_depth': 8}\n",
      "{'n_estimators': 590, 'learning_rate': 0.01} 0.557814974389\n",
      "{'learning_rate': 0.01, 'min_samples_leaf': 50, 'n_estimators': 590, 'subsample': 0.80000000000000027, 'random_state': 11, 'max_features': 3, 'min_samples_split': 875, 'max_depth': 8}\n"
     ]
    }
   ],
   "source": [
    "for params in super_params:\n",
    "    opt_fit_params = fit(xxx_train, yyy_train, params, clf_params)\n",
    "\n",
    "    opt_params=dict(opt_params, **opt_fit_params)\n",
    "    clf_params=dict(default_params, **opt_params)\n",
    "    print clf_params"
   ]
  },
  {
   "cell_type": "code",
   "execution_count": 237,
   "metadata": {
    "collapsed": false
   },
   "outputs": [
    {
     "data": {
      "text/plain": [
       "{'learning_rate': 0.01,\n",
       " 'max_depth': 8,\n",
       " 'max_features': 3,\n",
       " 'min_samples_leaf': 50,\n",
       " 'min_samples_split': 875,\n",
       " 'n_estimators': 590,\n",
       " 'random_state': 11,\n",
       " 'subsample': 0.80000000000000027}"
      ]
     },
     "execution_count": 237,
     "metadata": {},
     "output_type": "execute_result"
    }
   ],
   "source": [
    "clf_params"
   ]
  },
  {
   "cell_type": "code",
   "execution_count": null,
   "metadata": {
    "collapsed": true
   },
   "outputs": [],
   "source": []
  },
  {
   "cell_type": "code",
   "execution_count": null,
   "metadata": {
    "collapsed": true
   },
   "outputs": [],
   "source": []
  },
  {
   "cell_type": "code",
   "execution_count": 357,
   "metadata": {
    "collapsed": true
   },
   "outputs": [],
   "source": [
    "#0\n",
    "xxx_train=x_train.loc[types[types==0].index]\n",
    "yyy_train=y_train.loc[types[types==0].index]\n",
    "\n",
    "xxx_train=xxx_train.reset_index(drop=True)\n",
    "yyy_train=yyy_train.reset_index(drop=True)"
   ]
  },
  {
   "cell_type": "code",
   "execution_count": 358,
   "metadata": {
    "collapsed": false
   },
   "outputs": [],
   "source": [
    "learning_rate=0.1\n",
    "n_estimators=19\n",
    "fractions=np.array([0.5,1,5,10,15,20,25,30])\n",
    "\n",
    "super_params = [\n",
    "    {'n_estimators': [19]},#np.concatenate((range(10,101,10), range(10,20), range(21,30)))},\n",
    "    {\n",
    "        'max_depth':range(3,10),\n",
    "        'min_samples_split':range(400,701,25) #range(200,1001,200)\n",
    "    },     \n",
    "    {'min_samples_leaf':range(20,81,10)},\n",
    "    {'max_features':range(2,13)},\n",
    "    {'subsample': np.arange(0.5,0.9,0.1/5.0)},\n",
    "    [{'learning_rate': [learning_rate/frac], 'n_estimators': [int(n_estimators*frac)]} for frac in fractions]\n",
    "]"
   ]
  },
  {
   "cell_type": "code",
   "execution_count": 359,
   "metadata": {
    "collapsed": false
   },
   "outputs": [
    {
     "data": {
      "text/plain": [
       "{'learning_rate': 0.1,\n",
       " 'max_depth': 8,\n",
       " 'max_features': 'sqrt',\n",
       " 'min_samples_leaf': 50,\n",
       " 'min_samples_split': 500,\n",
       " 'n_estimators': 47,\n",
       " 'random_state': 11,\n",
       " 'subsample': 0.8}"
      ]
     },
     "execution_count": 359,
     "metadata": {},
     "output_type": "execute_result"
    }
   ],
   "source": [
    "opt_params={}\n",
    "\n",
    "default_params={\n",
    "    'n_estimators':47,\n",
    "    'learning_rate':0.1,\n",
    "    'min_samples_split':500,\n",
    "    'min_samples_leaf':50,\n",
    "    'max_depth':8,\n",
    "    'max_features':'sqrt',\n",
    "    'subsample':0.8,\n",
    "    'random_state':11    \n",
    "}\n",
    "\n",
    "#opt_params=dict(opt_params, **opt_fit_params)\n",
    "clf_params=dict(default_params, **opt_params)\n",
    "clf_params"
   ]
  },
  {
   "cell_type": "code",
   "execution_count": 360,
   "metadata": {
    "collapsed": false
   },
   "outputs": [
    {
     "name": "stdout",
     "output_type": "stream",
     "text": [
      "{'n_estimators': 19} 0.22967931245\n",
      "{'learning_rate': 0.1, 'min_samples_leaf': 50, 'n_estimators': 19, 'subsample': 0.8, 'random_state': 11, 'max_features': 'sqrt', 'min_samples_split': 500, 'max_depth': 8}\n",
      "{'min_samples_split': 600, 'max_depth': 5} 0.228505998048\n",
      "{'learning_rate': 0.1, 'min_samples_leaf': 50, 'n_estimators': 19, 'subsample': 0.8, 'random_state': 11, 'max_features': 'sqrt', 'min_samples_split': 600, 'max_depth': 5}\n",
      "{'min_samples_leaf': 50} 0.228505998048\n",
      "{'learning_rate': 0.1, 'min_samples_leaf': 50, 'n_estimators': 19, 'subsample': 0.8, 'random_state': 11, 'max_features': 'sqrt', 'min_samples_split': 600, 'max_depth': 5}\n",
      "{'max_features': 3} 0.228505998048\n",
      "{'learning_rate': 0.1, 'min_samples_leaf': 50, 'n_estimators': 19, 'subsample': 0.8, 'random_state': 11, 'max_features': 3, 'min_samples_split': 600, 'max_depth': 5}\n",
      "{'subsample': 0.66000000000000014} 0.228498109259\n",
      "{'learning_rate': 0.1, 'min_samples_leaf': 50, 'n_estimators': 19, 'subsample': 0.66000000000000014, 'random_state': 11, 'max_features': 3, 'min_samples_split': 600, 'max_depth': 5}\n",
      "{'n_estimators': 19, 'learning_rate': 0.10000000000000001} 0.228498109259\n",
      "{'learning_rate': 0.10000000000000001, 'min_samples_leaf': 50, 'n_estimators': 19, 'subsample': 0.66000000000000014, 'random_state': 11, 'max_features': 3, 'min_samples_split': 600, 'max_depth': 5}\n"
     ]
    }
   ],
   "source": [
    "for params in super_params:\n",
    "    opt_fit_params = fit(xxx_train, yyy_train, params, clf_params)\n",
    "\n",
    "    opt_params=dict(opt_params, **opt_fit_params)\n",
    "    clf_params=dict(default_params, **opt_params)\n",
    "    print clf_params"
   ]
  },
  {
   "cell_type": "code",
   "execution_count": 361,
   "metadata": {
    "collapsed": false
   },
   "outputs": [
    {
     "data": {
      "text/plain": [
       "{'learning_rate': 0.10000000000000001,\n",
       " 'max_depth': 5,\n",
       " 'max_features': 3,\n",
       " 'min_samples_leaf': 50,\n",
       " 'min_samples_split': 600,\n",
       " 'n_estimators': 19,\n",
       " 'random_state': 11,\n",
       " 'subsample': 0.66000000000000014}"
      ]
     },
     "execution_count": 361,
     "metadata": {},
     "output_type": "execute_result"
    }
   ],
   "source": [
    "clf_params"
   ]
  },
  {
   "cell_type": "code",
   "execution_count": 265,
   "metadata": {
    "collapsed": false
   },
   "outputs": [
    {
     "name": "stdout",
     "output_type": "stream",
     "text": [
      "0.230338214504 [ 0.22951003  0.23536701  0.23593548  0.22713865  0.2237399 ]\n",
      "0.228785338204 [ 0.22872268  0.23415678  0.2327544   0.22616093  0.22213189]\n"
     ]
    }
   ],
   "source": [
    "cv = cross_val_score(classifier,\n",
    "                     xxx_train,\n",
    "                     yyy_train,\n",
    "                     scoring='neg_log_loss',\n",
    "                     cv=StratifiedKFold(n_splits=5, shuffle=True, random_state=5))\n",
    "print -1 * np.mean(cv), -1*cv\n",
    "\n",
    "cv = cross_val_score(GradientBoostingClassifier(**clf_params),\n",
    "                     xxx_train,\n",
    "                     yyy_train,\n",
    "                     scoring='neg_log_loss',\n",
    "                     cv=StratifiedKFold(n_splits=5, shuffle=True, random_state=5))\n",
    "print -1 * np.mean(cv), -1*cv"
   ]
  },
  {
   "cell_type": "code",
   "execution_count": null,
   "metadata": {
    "collapsed": true
   },
   "outputs": [],
   "source": []
  },
  {
   "cell_type": "code",
   "execution_count": null,
   "metadata": {
    "collapsed": true
   },
   "outputs": [],
   "source": []
  },
  {
   "cell_type": "code",
   "execution_count": 362,
   "metadata": {
    "collapsed": true
   },
   "outputs": [],
   "source": [
    "class FakeClf:\n",
    "    def predict_proba(self, X):\n",
    "        ret=np.ndarray(shape=(X.shape[0],2), dtype=float)\n",
    "        ret[:,0]=0\n",
    "        ret[:,1]=1\n",
    "        return ret\n",
    "\n",
    "params0={'learning_rate': 0.10000000000000001,\n",
    "         'max_depth': 5,\n",
    "         'max_features': 3,\n",
    "         'min_samples_leaf': 50,\n",
    "         'min_samples_split': 600,\n",
    "         'n_estimators': 19,\n",
    "         'random_state': 11,\n",
    "         'subsample': 0.66000000000000014}\n",
    "classifier0 = GradientBoostingClassifier(**params0)\n",
    "xxx_train, yyy_train = x_train.loc[types[types==0].index], y_train.loc[types[types==0].index]\n",
    "classifier0.fit(xxx_train, yyy_train)\n",
    "\n",
    "params1={'learning_rate': 0.01,\n",
    "         'max_depth': 8,\n",
    "         'max_features': 3,\n",
    "         'min_samples_leaf': 50,\n",
    "         'min_samples_split': 875,\n",
    "         'n_estimators': 590,\n",
    "         'random_state': 11,\n",
    "         'subsample': 0.80000000000000027}\n",
    "classifier1 = GradientBoostingClassifier(**params1)\n",
    "xxx_train, yyy_train = x_train.loc[types[types==1].index], y_train.loc[types[types==1].index]\n",
    "classifier1.fit(xxx_train, yyy_train)\n",
    "\n",
    "clf={\n",
    "    0: classifier0,\n",
    "    1: classifier1,\n",
    "    2: FakeClf()\n",
    "}"
   ]
  },
  {
   "cell_type": "code",
   "execution_count": 326,
   "metadata": {
    "collapsed": false
   },
   "outputs": [
    {
     "data": {
      "text/plain": [
       "array([ 1.,  1.,  1., ...,  1.,  1.,  1.])"
      ]
     },
     "execution_count": 326,
     "metadata": {},
     "output_type": "execute_result"
    }
   ],
   "source": [
    "clf[2].predict_proba(x_test)[:,1]"
   ]
  },
  {
   "cell_type": "code",
   "execution_count": 364,
   "metadata": {
    "collapsed": false
   },
   "outputs": [],
   "source": [
    "res=pd.DataFrame(index=x_test.index)\n",
    "for i in clf.keys():\n",
    "    res['clf'+str(i)]=clf[i].predict_proba(x_test)[:,1]\n"
   ]
  },
  {
   "cell_type": "code",
   "execution_count": 365,
   "metadata": {
    "collapsed": false
   },
   "outputs": [],
   "source": [
    "res['types']=test_types"
   ]
  },
  {
   "cell_type": "code",
   "execution_count": 366,
   "metadata": {
    "collapsed": false
   },
   "outputs": [],
   "source": [
    "res['y']=res.apply(lambda row: row['clf'+str(int(row['types']))], axis=1)\n"
   ]
  },
  {
   "cell_type": "code",
   "execution_count": 368,
   "metadata": {
    "collapsed": false
   },
   "outputs": [],
   "source": [
    "res_df = res['y']# pd.DataFrame(y_test, columns = ['y'])\n",
    "res_df.to_csv('res/012_3_clf.csv', sep=';', header=None, index=False)"
   ]
  },
  {
   "cell_type": "code",
   "execution_count": 369,
   "metadata": {
    "collapsed": false
   },
   "outputs": [],
   "source": [
    "res['good_y']=classifier.predict_proba(x_test)[:,1]"
   ]
  },
  {
   "cell_type": "code",
   "execution_count": 370,
   "metadata": {
    "collapsed": false
   },
   "outputs": [
    {
     "data": {
      "text/html": [
       "<div>\n",
       "<table border=\"1\" class=\"dataframe\">\n",
       "  <thead>\n",
       "    <tr style=\"text-align: right;\">\n",
       "      <th></th>\n",
       "      <th>clf0</th>\n",
       "      <th>clf1</th>\n",
       "      <th>clf2</th>\n",
       "      <th>types</th>\n",
       "      <th>y</th>\n",
       "      <th>good_y</th>\n",
       "    </tr>\n",
       "  </thead>\n",
       "  <tbody>\n",
       "    <tr>\n",
       "      <th>0</th>\n",
       "      <td>0.120132</td>\n",
       "      <td>0.217156</td>\n",
       "      <td>1.0</td>\n",
       "      <td>0</td>\n",
       "      <td>0.120132</td>\n",
       "      <td>0.165391</td>\n",
       "    </tr>\n",
       "    <tr>\n",
       "      <th>1</th>\n",
       "      <td>0.032317</td>\n",
       "      <td>0.106615</td>\n",
       "      <td>1.0</td>\n",
       "      <td>0</td>\n",
       "      <td>0.032317</td>\n",
       "      <td>0.067093</td>\n",
       "    </tr>\n",
       "    <tr>\n",
       "      <th>2</th>\n",
       "      <td>0.319942</td>\n",
       "      <td>0.606147</td>\n",
       "      <td>1.0</td>\n",
       "      <td>1</td>\n",
       "      <td>0.606147</td>\n",
       "      <td>0.727772</td>\n",
       "    </tr>\n",
       "    <tr>\n",
       "      <th>3</th>\n",
       "      <td>0.287086</td>\n",
       "      <td>0.599790</td>\n",
       "      <td>1.0</td>\n",
       "      <td>1</td>\n",
       "      <td>0.599790</td>\n",
       "      <td>0.724658</td>\n",
       "    </tr>\n",
       "    <tr>\n",
       "      <th>4</th>\n",
       "      <td>0.053872</td>\n",
       "      <td>0.139411</td>\n",
       "      <td>1.0</td>\n",
       "      <td>0</td>\n",
       "      <td>0.053872</td>\n",
       "      <td>0.114130</td>\n",
       "    </tr>\n",
       "    <tr>\n",
       "      <th>5</th>\n",
       "      <td>0.154390</td>\n",
       "      <td>0.228809</td>\n",
       "      <td>1.0</td>\n",
       "      <td>1</td>\n",
       "      <td>0.228809</td>\n",
       "      <td>0.243620</td>\n",
       "    </tr>\n",
       "    <tr>\n",
       "      <th>6</th>\n",
       "      <td>0.155758</td>\n",
       "      <td>0.350422</td>\n",
       "      <td>1.0</td>\n",
       "      <td>1</td>\n",
       "      <td>0.350422</td>\n",
       "      <td>0.456619</td>\n",
       "    </tr>\n",
       "    <tr>\n",
       "      <th>7</th>\n",
       "      <td>0.311936</td>\n",
       "      <td>0.695257</td>\n",
       "      <td>1.0</td>\n",
       "      <td>1</td>\n",
       "      <td>0.695257</td>\n",
       "      <td>0.801573</td>\n",
       "    </tr>\n",
       "    <tr>\n",
       "      <th>8</th>\n",
       "      <td>0.082639</td>\n",
       "      <td>0.149089</td>\n",
       "      <td>1.0</td>\n",
       "      <td>0</td>\n",
       "      <td>0.082639</td>\n",
       "      <td>0.107632</td>\n",
       "    </tr>\n",
       "    <tr>\n",
       "      <th>9</th>\n",
       "      <td>0.029736</td>\n",
       "      <td>0.096416</td>\n",
       "      <td>1.0</td>\n",
       "      <td>0</td>\n",
       "      <td>0.029736</td>\n",
       "      <td>0.051669</td>\n",
       "    </tr>\n",
       "    <tr>\n",
       "      <th>10</th>\n",
       "      <td>0.213837</td>\n",
       "      <td>0.400418</td>\n",
       "      <td>1.0</td>\n",
       "      <td>1</td>\n",
       "      <td>0.400418</td>\n",
       "      <td>0.550395</td>\n",
       "    </tr>\n",
       "    <tr>\n",
       "      <th>11</th>\n",
       "      <td>0.065932</td>\n",
       "      <td>0.164116</td>\n",
       "      <td>1.0</td>\n",
       "      <td>0</td>\n",
       "      <td>0.065932</td>\n",
       "      <td>0.087705</td>\n",
       "    </tr>\n",
       "    <tr>\n",
       "      <th>12</th>\n",
       "      <td>0.323353</td>\n",
       "      <td>0.775918</td>\n",
       "      <td>1.0</td>\n",
       "      <td>1</td>\n",
       "      <td>0.775918</td>\n",
       "      <td>0.899379</td>\n",
       "    </tr>\n",
       "    <tr>\n",
       "      <th>13</th>\n",
       "      <td>0.053605</td>\n",
       "      <td>0.138443</td>\n",
       "      <td>1.0</td>\n",
       "      <td>1</td>\n",
       "      <td>0.138443</td>\n",
       "      <td>0.258204</td>\n",
       "    </tr>\n",
       "    <tr>\n",
       "      <th>14</th>\n",
       "      <td>0.056729</td>\n",
       "      <td>0.161651</td>\n",
       "      <td>1.0</td>\n",
       "      <td>0</td>\n",
       "      <td>0.056729</td>\n",
       "      <td>0.116055</td>\n",
       "    </tr>\n",
       "    <tr>\n",
       "      <th>15</th>\n",
       "      <td>0.031737</td>\n",
       "      <td>0.100310</td>\n",
       "      <td>1.0</td>\n",
       "      <td>0</td>\n",
       "      <td>0.031737</td>\n",
       "      <td>0.053744</td>\n",
       "    </tr>\n",
       "    <tr>\n",
       "      <th>16</th>\n",
       "      <td>0.032141</td>\n",
       "      <td>0.101125</td>\n",
       "      <td>1.0</td>\n",
       "      <td>0</td>\n",
       "      <td>0.032141</td>\n",
       "      <td>0.061043</td>\n",
       "    </tr>\n",
       "    <tr>\n",
       "      <th>17</th>\n",
       "      <td>0.050976</td>\n",
       "      <td>0.131966</td>\n",
       "      <td>1.0</td>\n",
       "      <td>0</td>\n",
       "      <td>0.050976</td>\n",
       "      <td>0.073597</td>\n",
       "    </tr>\n",
       "    <tr>\n",
       "      <th>18</th>\n",
       "      <td>0.029406</td>\n",
       "      <td>0.089569</td>\n",
       "      <td>1.0</td>\n",
       "      <td>0</td>\n",
       "      <td>0.029406</td>\n",
       "      <td>0.052345</td>\n",
       "    </tr>\n",
       "    <tr>\n",
       "      <th>19</th>\n",
       "      <td>0.036037</td>\n",
       "      <td>0.106776</td>\n",
       "      <td>1.0</td>\n",
       "      <td>0</td>\n",
       "      <td>0.036037</td>\n",
       "      <td>0.074083</td>\n",
       "    </tr>\n",
       "    <tr>\n",
       "      <th>20</th>\n",
       "      <td>0.085973</td>\n",
       "      <td>0.257662</td>\n",
       "      <td>1.0</td>\n",
       "      <td>1</td>\n",
       "      <td>0.257662</td>\n",
       "      <td>0.299243</td>\n",
       "    </tr>\n",
       "    <tr>\n",
       "      <th>21</th>\n",
       "      <td>0.323353</td>\n",
       "      <td>0.761490</td>\n",
       "      <td>1.0</td>\n",
       "      <td>1</td>\n",
       "      <td>0.761490</td>\n",
       "      <td>0.825725</td>\n",
       "    </tr>\n",
       "    <tr>\n",
       "      <th>22</th>\n",
       "      <td>0.215220</td>\n",
       "      <td>0.345239</td>\n",
       "      <td>1.0</td>\n",
       "      <td>1</td>\n",
       "      <td>0.345239</td>\n",
       "      <td>0.524287</td>\n",
       "    </tr>\n",
       "    <tr>\n",
       "      <th>23</th>\n",
       "      <td>0.323353</td>\n",
       "      <td>0.644381</td>\n",
       "      <td>1.0</td>\n",
       "      <td>1</td>\n",
       "      <td>0.644381</td>\n",
       "      <td>0.798179</td>\n",
       "    </tr>\n",
       "    <tr>\n",
       "      <th>24</th>\n",
       "      <td>0.057133</td>\n",
       "      <td>0.145777</td>\n",
       "      <td>1.0</td>\n",
       "      <td>0</td>\n",
       "      <td>0.057133</td>\n",
       "      <td>0.109531</td>\n",
       "    </tr>\n",
       "    <tr>\n",
       "      <th>25</th>\n",
       "      <td>0.120003</td>\n",
       "      <td>0.184109</td>\n",
       "      <td>1.0</td>\n",
       "      <td>1</td>\n",
       "      <td>0.184109</td>\n",
       "      <td>0.369402</td>\n",
       "    </tr>\n",
       "    <tr>\n",
       "      <th>26</th>\n",
       "      <td>0.262483</td>\n",
       "      <td>0.445875</td>\n",
       "      <td>1.0</td>\n",
       "      <td>1</td>\n",
       "      <td>0.445875</td>\n",
       "      <td>0.495465</td>\n",
       "    </tr>\n",
       "    <tr>\n",
       "      <th>27</th>\n",
       "      <td>0.032141</td>\n",
       "      <td>0.101125</td>\n",
       "      <td>1.0</td>\n",
       "      <td>0</td>\n",
       "      <td>0.032141</td>\n",
       "      <td>0.061043</td>\n",
       "    </tr>\n",
       "    <tr>\n",
       "      <th>28</th>\n",
       "      <td>0.323353</td>\n",
       "      <td>0.787812</td>\n",
       "      <td>1.0</td>\n",
       "      <td>1</td>\n",
       "      <td>0.787812</td>\n",
       "      <td>0.893479</td>\n",
       "    </tr>\n",
       "    <tr>\n",
       "      <th>29</th>\n",
       "      <td>0.277908</td>\n",
       "      <td>0.832689</td>\n",
       "      <td>1.0</td>\n",
       "      <td>1</td>\n",
       "      <td>0.832689</td>\n",
       "      <td>0.888010</td>\n",
       "    </tr>\n",
       "    <tr>\n",
       "      <th>...</th>\n",
       "      <td>...</td>\n",
       "      <td>...</td>\n",
       "      <td>...</td>\n",
       "      <td>...</td>\n",
       "      <td>...</td>\n",
       "      <td>...</td>\n",
       "    </tr>\n",
       "    <tr>\n",
       "      <th>25259</th>\n",
       "      <td>0.351756</td>\n",
       "      <td>0.832212</td>\n",
       "      <td>1.0</td>\n",
       "      <td>1</td>\n",
       "      <td>0.832212</td>\n",
       "      <td>0.898144</td>\n",
       "    </tr>\n",
       "    <tr>\n",
       "      <th>25260</th>\n",
       "      <td>0.097257</td>\n",
       "      <td>0.222412</td>\n",
       "      <td>1.0</td>\n",
       "      <td>0</td>\n",
       "      <td>0.097257</td>\n",
       "      <td>0.151135</td>\n",
       "    </tr>\n",
       "    <tr>\n",
       "      <th>25261</th>\n",
       "      <td>0.202913</td>\n",
       "      <td>0.350289</td>\n",
       "      <td>1.0</td>\n",
       "      <td>0</td>\n",
       "      <td>0.202913</td>\n",
       "      <td>0.418391</td>\n",
       "    </tr>\n",
       "    <tr>\n",
       "      <th>25262</th>\n",
       "      <td>0.233143</td>\n",
       "      <td>0.424687</td>\n",
       "      <td>1.0</td>\n",
       "      <td>1</td>\n",
       "      <td>0.424687</td>\n",
       "      <td>0.554848</td>\n",
       "    </tr>\n",
       "    <tr>\n",
       "      <th>25263</th>\n",
       "      <td>0.087442</td>\n",
       "      <td>0.189377</td>\n",
       "      <td>1.0</td>\n",
       "      <td>1</td>\n",
       "      <td>0.189377</td>\n",
       "      <td>0.234459</td>\n",
       "    </tr>\n",
       "    <tr>\n",
       "      <th>25264</th>\n",
       "      <td>0.030467</td>\n",
       "      <td>0.094446</td>\n",
       "      <td>1.0</td>\n",
       "      <td>0</td>\n",
       "      <td>0.030467</td>\n",
       "      <td>0.051619</td>\n",
       "    </tr>\n",
       "    <tr>\n",
       "      <th>25265</th>\n",
       "      <td>0.045543</td>\n",
       "      <td>0.111034</td>\n",
       "      <td>1.0</td>\n",
       "      <td>0</td>\n",
       "      <td>0.045543</td>\n",
       "      <td>0.084637</td>\n",
       "    </tr>\n",
       "    <tr>\n",
       "      <th>25266</th>\n",
       "      <td>0.053711</td>\n",
       "      <td>0.136367</td>\n",
       "      <td>1.0</td>\n",
       "      <td>0</td>\n",
       "      <td>0.053711</td>\n",
       "      <td>0.151262</td>\n",
       "    </tr>\n",
       "    <tr>\n",
       "      <th>25267</th>\n",
       "      <td>0.084777</td>\n",
       "      <td>0.239738</td>\n",
       "      <td>1.0</td>\n",
       "      <td>0</td>\n",
       "      <td>0.084777</td>\n",
       "      <td>0.234832</td>\n",
       "    </tr>\n",
       "    <tr>\n",
       "      <th>25268</th>\n",
       "      <td>0.323353</td>\n",
       "      <td>0.900365</td>\n",
       "      <td>1.0</td>\n",
       "      <td>1</td>\n",
       "      <td>0.900365</td>\n",
       "      <td>0.950338</td>\n",
       "    </tr>\n",
       "    <tr>\n",
       "      <th>25269</th>\n",
       "      <td>0.258480</td>\n",
       "      <td>0.717720</td>\n",
       "      <td>1.0</td>\n",
       "      <td>1</td>\n",
       "      <td>0.717720</td>\n",
       "      <td>0.789566</td>\n",
       "    </tr>\n",
       "    <tr>\n",
       "      <th>25270</th>\n",
       "      <td>0.133621</td>\n",
       "      <td>0.274227</td>\n",
       "      <td>1.0</td>\n",
       "      <td>1</td>\n",
       "      <td>0.274227</td>\n",
       "      <td>0.427636</td>\n",
       "    </tr>\n",
       "    <tr>\n",
       "      <th>25271</th>\n",
       "      <td>0.178699</td>\n",
       "      <td>0.274136</td>\n",
       "      <td>1.0</td>\n",
       "      <td>1</td>\n",
       "      <td>0.274136</td>\n",
       "      <td>0.361652</td>\n",
       "    </tr>\n",
       "    <tr>\n",
       "      <th>25272</th>\n",
       "      <td>0.311936</td>\n",
       "      <td>0.628997</td>\n",
       "      <td>1.0</td>\n",
       "      <td>1</td>\n",
       "      <td>0.628997</td>\n",
       "      <td>0.778373</td>\n",
       "    </tr>\n",
       "    <tr>\n",
       "      <th>25273</th>\n",
       "      <td>0.048229</td>\n",
       "      <td>0.141404</td>\n",
       "      <td>1.0</td>\n",
       "      <td>0</td>\n",
       "      <td>0.048229</td>\n",
       "      <td>0.068697</td>\n",
       "    </tr>\n",
       "    <tr>\n",
       "      <th>25274</th>\n",
       "      <td>0.290652</td>\n",
       "      <td>0.599986</td>\n",
       "      <td>1.0</td>\n",
       "      <td>1</td>\n",
       "      <td>0.599986</td>\n",
       "      <td>0.705642</td>\n",
       "    </tr>\n",
       "    <tr>\n",
       "      <th>25275</th>\n",
       "      <td>0.323353</td>\n",
       "      <td>0.669651</td>\n",
       "      <td>1.0</td>\n",
       "      <td>1</td>\n",
       "      <td>0.669651</td>\n",
       "      <td>0.761290</td>\n",
       "    </tr>\n",
       "    <tr>\n",
       "      <th>25276</th>\n",
       "      <td>0.031591</td>\n",
       "      <td>0.108613</td>\n",
       "      <td>1.0</td>\n",
       "      <td>0</td>\n",
       "      <td>0.031591</td>\n",
       "      <td>0.088674</td>\n",
       "    </tr>\n",
       "    <tr>\n",
       "      <th>25277</th>\n",
       "      <td>0.032141</td>\n",
       "      <td>0.099752</td>\n",
       "      <td>1.0</td>\n",
       "      <td>0</td>\n",
       "      <td>0.032141</td>\n",
       "      <td>0.088411</td>\n",
       "    </tr>\n",
       "    <tr>\n",
       "      <th>25278</th>\n",
       "      <td>0.062503</td>\n",
       "      <td>0.170208</td>\n",
       "      <td>1.0</td>\n",
       "      <td>0</td>\n",
       "      <td>0.062503</td>\n",
       "      <td>0.154816</td>\n",
       "    </tr>\n",
       "    <tr>\n",
       "      <th>25279</th>\n",
       "      <td>0.031817</td>\n",
       "      <td>0.099377</td>\n",
       "      <td>1.0</td>\n",
       "      <td>0</td>\n",
       "      <td>0.031817</td>\n",
       "      <td>0.059237</td>\n",
       "    </tr>\n",
       "    <tr>\n",
       "      <th>25280</th>\n",
       "      <td>0.030467</td>\n",
       "      <td>0.099042</td>\n",
       "      <td>1.0</td>\n",
       "      <td>0</td>\n",
       "      <td>0.030467</td>\n",
       "      <td>0.049937</td>\n",
       "    </tr>\n",
       "    <tr>\n",
       "      <th>25281</th>\n",
       "      <td>0.090842</td>\n",
       "      <td>0.266074</td>\n",
       "      <td>1.0</td>\n",
       "      <td>0</td>\n",
       "      <td>0.090842</td>\n",
       "      <td>0.154453</td>\n",
       "    </tr>\n",
       "    <tr>\n",
       "      <th>25282</th>\n",
       "      <td>0.208112</td>\n",
       "      <td>0.324268</td>\n",
       "      <td>1.0</td>\n",
       "      <td>1</td>\n",
       "      <td>0.324268</td>\n",
       "      <td>0.434229</td>\n",
       "    </tr>\n",
       "    <tr>\n",
       "      <th>25283</th>\n",
       "      <td>0.357828</td>\n",
       "      <td>0.944020</td>\n",
       "      <td>1.0</td>\n",
       "      <td>1</td>\n",
       "      <td>0.944020</td>\n",
       "      <td>0.973381</td>\n",
       "    </tr>\n",
       "    <tr>\n",
       "      <th>25284</th>\n",
       "      <td>0.059400</td>\n",
       "      <td>0.140309</td>\n",
       "      <td>1.0</td>\n",
       "      <td>1</td>\n",
       "      <td>0.140309</td>\n",
       "      <td>0.242397</td>\n",
       "    </tr>\n",
       "    <tr>\n",
       "      <th>25285</th>\n",
       "      <td>0.062725</td>\n",
       "      <td>0.177501</td>\n",
       "      <td>1.0</td>\n",
       "      <td>1</td>\n",
       "      <td>0.177501</td>\n",
       "      <td>0.289272</td>\n",
       "    </tr>\n",
       "    <tr>\n",
       "      <th>25286</th>\n",
       "      <td>0.051752</td>\n",
       "      <td>0.135824</td>\n",
       "      <td>1.0</td>\n",
       "      <td>0</td>\n",
       "      <td>0.051752</td>\n",
       "      <td>0.130432</td>\n",
       "    </tr>\n",
       "    <tr>\n",
       "      <th>25287</th>\n",
       "      <td>0.094980</td>\n",
       "      <td>0.209159</td>\n",
       "      <td>1.0</td>\n",
       "      <td>1</td>\n",
       "      <td>0.209159</td>\n",
       "      <td>0.345081</td>\n",
       "    </tr>\n",
       "    <tr>\n",
       "      <th>25288</th>\n",
       "      <td>0.032141</td>\n",
       "      <td>0.099752</td>\n",
       "      <td>1.0</td>\n",
       "      <td>0</td>\n",
       "      <td>0.032141</td>\n",
       "      <td>0.088411</td>\n",
       "    </tr>\n",
       "  </tbody>\n",
       "</table>\n",
       "<p>25289 rows × 6 columns</p>\n",
       "</div>"
      ],
      "text/plain": [
       "           clf0      clf1  clf2  types         y    good_y\n",
       "0      0.120132  0.217156   1.0      0  0.120132  0.165391\n",
       "1      0.032317  0.106615   1.0      0  0.032317  0.067093\n",
       "2      0.319942  0.606147   1.0      1  0.606147  0.727772\n",
       "3      0.287086  0.599790   1.0      1  0.599790  0.724658\n",
       "4      0.053872  0.139411   1.0      0  0.053872  0.114130\n",
       "5      0.154390  0.228809   1.0      1  0.228809  0.243620\n",
       "6      0.155758  0.350422   1.0      1  0.350422  0.456619\n",
       "7      0.311936  0.695257   1.0      1  0.695257  0.801573\n",
       "8      0.082639  0.149089   1.0      0  0.082639  0.107632\n",
       "9      0.029736  0.096416   1.0      0  0.029736  0.051669\n",
       "10     0.213837  0.400418   1.0      1  0.400418  0.550395\n",
       "11     0.065932  0.164116   1.0      0  0.065932  0.087705\n",
       "12     0.323353  0.775918   1.0      1  0.775918  0.899379\n",
       "13     0.053605  0.138443   1.0      1  0.138443  0.258204\n",
       "14     0.056729  0.161651   1.0      0  0.056729  0.116055\n",
       "15     0.031737  0.100310   1.0      0  0.031737  0.053744\n",
       "16     0.032141  0.101125   1.0      0  0.032141  0.061043\n",
       "17     0.050976  0.131966   1.0      0  0.050976  0.073597\n",
       "18     0.029406  0.089569   1.0      0  0.029406  0.052345\n",
       "19     0.036037  0.106776   1.0      0  0.036037  0.074083\n",
       "20     0.085973  0.257662   1.0      1  0.257662  0.299243\n",
       "21     0.323353  0.761490   1.0      1  0.761490  0.825725\n",
       "22     0.215220  0.345239   1.0      1  0.345239  0.524287\n",
       "23     0.323353  0.644381   1.0      1  0.644381  0.798179\n",
       "24     0.057133  0.145777   1.0      0  0.057133  0.109531\n",
       "25     0.120003  0.184109   1.0      1  0.184109  0.369402\n",
       "26     0.262483  0.445875   1.0      1  0.445875  0.495465\n",
       "27     0.032141  0.101125   1.0      0  0.032141  0.061043\n",
       "28     0.323353  0.787812   1.0      1  0.787812  0.893479\n",
       "29     0.277908  0.832689   1.0      1  0.832689  0.888010\n",
       "...         ...       ...   ...    ...       ...       ...\n",
       "25259  0.351756  0.832212   1.0      1  0.832212  0.898144\n",
       "25260  0.097257  0.222412   1.0      0  0.097257  0.151135\n",
       "25261  0.202913  0.350289   1.0      0  0.202913  0.418391\n",
       "25262  0.233143  0.424687   1.0      1  0.424687  0.554848\n",
       "25263  0.087442  0.189377   1.0      1  0.189377  0.234459\n",
       "25264  0.030467  0.094446   1.0      0  0.030467  0.051619\n",
       "25265  0.045543  0.111034   1.0      0  0.045543  0.084637\n",
       "25266  0.053711  0.136367   1.0      0  0.053711  0.151262\n",
       "25267  0.084777  0.239738   1.0      0  0.084777  0.234832\n",
       "25268  0.323353  0.900365   1.0      1  0.900365  0.950338\n",
       "25269  0.258480  0.717720   1.0      1  0.717720  0.789566\n",
       "25270  0.133621  0.274227   1.0      1  0.274227  0.427636\n",
       "25271  0.178699  0.274136   1.0      1  0.274136  0.361652\n",
       "25272  0.311936  0.628997   1.0      1  0.628997  0.778373\n",
       "25273  0.048229  0.141404   1.0      0  0.048229  0.068697\n",
       "25274  0.290652  0.599986   1.0      1  0.599986  0.705642\n",
       "25275  0.323353  0.669651   1.0      1  0.669651  0.761290\n",
       "25276  0.031591  0.108613   1.0      0  0.031591  0.088674\n",
       "25277  0.032141  0.099752   1.0      0  0.032141  0.088411\n",
       "25278  0.062503  0.170208   1.0      0  0.062503  0.154816\n",
       "25279  0.031817  0.099377   1.0      0  0.031817  0.059237\n",
       "25280  0.030467  0.099042   1.0      0  0.030467  0.049937\n",
       "25281  0.090842  0.266074   1.0      0  0.090842  0.154453\n",
       "25282  0.208112  0.324268   1.0      1  0.324268  0.434229\n",
       "25283  0.357828  0.944020   1.0      1  0.944020  0.973381\n",
       "25284  0.059400  0.140309   1.0      1  0.140309  0.242397\n",
       "25285  0.062725  0.177501   1.0      1  0.177501  0.289272\n",
       "25286  0.051752  0.135824   1.0      0  0.051752  0.130432\n",
       "25287  0.094980  0.209159   1.0      1  0.209159  0.345081\n",
       "25288  0.032141  0.099752   1.0      0  0.032141  0.088411\n",
       "\n",
       "[25289 rows x 6 columns]"
      ]
     },
     "execution_count": 370,
     "metadata": {},
     "output_type": "execute_result"
    }
   ],
   "source": [
    "res"
   ]
  },
  {
   "cell_type": "code",
   "execution_count": null,
   "metadata": {
    "collapsed": true
   },
   "outputs": [],
   "source": []
  },
  {
   "cell_type": "code",
   "execution_count": 12,
   "metadata": {
    "collapsed": false
   },
   "outputs": [
    {
     "data": {
      "text/plain": [
       "0        1\n",
       "1        1\n",
       "2        0\n",
       "3        0\n",
       "4        0\n",
       "5        0\n",
       "6        0\n",
       "7        0\n",
       "8        0\n",
       "9        0\n",
       "10       0\n",
       "11       0\n",
       "12       0\n",
       "13       0\n",
       "14       0\n",
       "15       0\n",
       "16       0\n",
       "17       0\n",
       "18       0\n",
       "19       0\n",
       "20       0\n",
       "21       0\n",
       "22       0\n",
       "23       0\n",
       "24       0\n",
       "25       0\n",
       "26       0\n",
       "27       0\n",
       "28       0\n",
       "29       0\n",
       "        ..\n",
       "13343    0\n",
       "13344    0\n",
       "13345    0\n",
       "13346    0\n",
       "13347    0\n",
       "13348    0\n",
       "13349    0\n",
       "13350    0\n",
       "13351    0\n",
       "13352    0\n",
       "13353    0\n",
       "13354    0\n",
       "13355    0\n",
       "13356    1\n",
       "13357    0\n",
       "13358    0\n",
       "13359    0\n",
       "13360    0\n",
       "13361    0\n",
       "13362    1\n",
       "13363    0\n",
       "13364    0\n",
       "13365    0\n",
       "13366    0\n",
       "13367    0\n",
       "13368    0\n",
       "13369    0\n",
       "13370    1\n",
       "13371    0\n",
       "13372    0\n",
       "Name: 0, dtype: int64"
      ]
     },
     "execution_count": 12,
     "metadata": {},
     "output_type": "execute_result"
    }
   ],
   "source": []
  },
  {
   "cell_type": "code",
   "execution_count": null,
   "metadata": {
    "collapsed": true
   },
   "outputs": [],
   "source": []
  },
  {
   "cell_type": "code",
   "execution_count": 10,
   "metadata": {
    "collapsed": false
   },
   "outputs": [],
   "source": [
    "#0\n",
    "xxx_train=x_train.loc[types[types==0].index]\n",
    "yyy_train=y_train.loc[types[types==0].index]\n",
    "\n",
    "xxx_train=xxx_train.reset_index(drop=True)\n",
    "yyy_train=yyy_train.reset_index(drop=True)"
   ]
  },
  {
   "cell_type": "code",
   "execution_count": 38,
   "metadata": {
    "collapsed": false
   },
   "outputs": [
    {
     "data": {
      "text/plain": [
       "{'sample_weight': array([10, 10,  1, ..., 10,  1,  1])}"
      ]
     },
     "execution_count": 38,
     "metadata": {},
     "output_type": "execute_result"
    }
   ],
   "source": [
    "w=(yyy_train*9)+1\n",
    "fit_params={'sample_weight': np.array(w)}\n",
    "fit_params"
   ]
  },
  {
   "cell_type": "code",
   "execution_count": 45,
   "metadata": {
    "collapsed": false
   },
   "outputs": [],
   "source": [
    "learning_rate=0.1\n",
    "n_estimators=25\n",
    "fractions=np.array([0.5,1,5,10,15,20,25,30])\n",
    "\n",
    "super_params = [\n",
    "    {'n_estimators': range(100,200,10)},# np.concatenate((range(10,101,10), range(10,20), range(21,30)))},\n",
    "    {\n",
    "        'max_depth':range(3,10),\n",
    "        'min_samples_split':range(400,701,25) #range(200,1001,200)\n",
    "    },     \n",
    "    {'min_samples_leaf':range(20,81,10)},\n",
    "    {'max_features':range(2,13)},\n",
    "    {'subsample': np.arange(0.5,0.9,0.1/5.0)},\n",
    "    [{'learning_rate': [learning_rate/frac], 'n_estimators': [int(n_estimators*frac)]} for frac in fractions]\n",
    "]"
   ]
  },
  {
   "cell_type": "code",
   "execution_count": 46,
   "metadata": {
    "collapsed": false
   },
   "outputs": [
    {
     "data": {
      "text/plain": [
       "{'learning_rate': 0.1,\n",
       " 'max_depth': 8,\n",
       " 'max_features': 'sqrt',\n",
       " 'min_samples_leaf': 50,\n",
       " 'min_samples_split': 500,\n",
       " 'n_estimators': 47,\n",
       " 'random_state': 11,\n",
       " 'subsample': 0.8}"
      ]
     },
     "execution_count": 46,
     "metadata": {},
     "output_type": "execute_result"
    }
   ],
   "source": [
    "opt_params={}\n",
    "\n",
    "default_params={\n",
    "    'n_estimators':47,\n",
    "    'learning_rate':0.1,\n",
    "    'min_samples_split':500,\n",
    "    'min_samples_leaf':50,\n",
    "    'max_depth':8,\n",
    "    'max_features':'sqrt',\n",
    "    'subsample':0.8,\n",
    "    'random_state':11    \n",
    "}\n",
    "\n",
    "#opt_params=dict(opt_params, **opt_fit_params)\n",
    "clf_params=dict(default_params, **opt_params)\n",
    "clf_params"
   ]
  },
  {
   "cell_type": "code",
   "execution_count": 47,
   "metadata": {
    "collapsed": false
   },
   "outputs": [
    {
     "name": "stdout",
     "output_type": "stream",
     "text": [
      "{'n_estimators': 190} 0.445257570985\n",
      "{'learning_rate': 0.1, 'min_samples_leaf': 50, 'n_estimators': 190, 'subsample': 0.8, 'random_state': 11, 'max_features': 'sqrt', 'min_samples_split': 500, 'max_depth': 8}\n",
      "{'min_samples_split': 400, 'max_depth': 9} 0.436266359742\n",
      "{'learning_rate': 0.1, 'min_samples_leaf': 50, 'n_estimators': 190, 'subsample': 0.8, 'random_state': 11, 'max_features': 'sqrt', 'min_samples_split': 400, 'max_depth': 9}\n",
      "{'min_samples_leaf': 20} 0.427218139009\n",
      "{'learning_rate': 0.1, 'min_samples_leaf': 20, 'n_estimators': 190, 'subsample': 0.8, 'random_state': 11, 'max_features': 'sqrt', 'min_samples_split': 400, 'max_depth': 9}\n",
      "{'max_features': 12} 0.411579994129\n",
      "{'learning_rate': 0.1, 'min_samples_leaf': 20, 'n_estimators': 190, 'subsample': 0.8, 'random_state': 11, 'max_features': 12, 'min_samples_split': 400, 'max_depth': 9}\n",
      "{'subsample': 0.8400000000000003} 0.411013223649\n",
      "{'learning_rate': 0.1, 'min_samples_leaf': 20, 'n_estimators': 190, 'subsample': 0.8400000000000003, 'random_state': 11, 'max_features': 12, 'min_samples_split': 400, 'max_depth': 9}\n"
     ]
    },
    {
     "ename": "KeyboardInterrupt",
     "evalue": "",
     "output_type": "error",
     "traceback": [
      "\u001b[0;31m---------------------------------------------------------------------------\u001b[0m",
      "\u001b[0;31mKeyboardInterrupt\u001b[0m                         Traceback (most recent call last)",
      "\u001b[0;32m<ipython-input-47-c2597cb96f0c>\u001b[0m in \u001b[0;36m<module>\u001b[0;34m()\u001b[0m\n\u001b[1;32m      1\u001b[0m \u001b[0;32mfor\u001b[0m \u001b[0mparams\u001b[0m \u001b[0;32min\u001b[0m \u001b[0msuper_params\u001b[0m\u001b[0;34m:\u001b[0m\u001b[0;34m\u001b[0m\u001b[0m\n\u001b[0;32m----> 2\u001b[0;31m     \u001b[0mopt_fit_params\u001b[0m \u001b[0;34m=\u001b[0m \u001b[0mfit\u001b[0m\u001b[0;34m(\u001b[0m\u001b[0mxxx_train\u001b[0m\u001b[0;34m,\u001b[0m \u001b[0myyy_train\u001b[0m\u001b[0;34m,\u001b[0m \u001b[0mparams\u001b[0m\u001b[0;34m,\u001b[0m \u001b[0mclf_params\u001b[0m\u001b[0;34m,\u001b[0m \u001b[0mfit_params\u001b[0m\u001b[0;34m)\u001b[0m\u001b[0;34m\u001b[0m\u001b[0m\n\u001b[0m\u001b[1;32m      3\u001b[0m \u001b[0;34m\u001b[0m\u001b[0m\n\u001b[1;32m      4\u001b[0m     \u001b[0mopt_params\u001b[0m\u001b[0;34m=\u001b[0m\u001b[0mdict\u001b[0m\u001b[0;34m(\u001b[0m\u001b[0mopt_params\u001b[0m\u001b[0;34m,\u001b[0m \u001b[0;34m**\u001b[0m\u001b[0mopt_fit_params\u001b[0m\u001b[0;34m)\u001b[0m\u001b[0;34m\u001b[0m\u001b[0m\n\u001b[1;32m      5\u001b[0m     \u001b[0mclf_params\u001b[0m\u001b[0;34m=\u001b[0m\u001b[0mdict\u001b[0m\u001b[0;34m(\u001b[0m\u001b[0mdefault_params\u001b[0m\u001b[0;34m,\u001b[0m \u001b[0;34m**\u001b[0m\u001b[0mopt_params\u001b[0m\u001b[0;34m)\u001b[0m\u001b[0;34m\u001b[0m\u001b[0m\n",
      "\u001b[0;32m<ipython-input-24-eae7f1326a06>\u001b[0m in \u001b[0;36mfit\u001b[0;34m(X, y, grid_params, clf_params, fit_params)\u001b[0m\n\u001b[1;32m     10\u001b[0m         cv=StratifiedKFold(n_splits=5, shuffle=True, random_state=5))\n\u001b[1;32m     11\u001b[0m \u001b[0;34m\u001b[0m\u001b[0m\n\u001b[0;32m---> 12\u001b[0;31m     \u001b[0mgrid\u001b[0m\u001b[0;34m.\u001b[0m\u001b[0mfit\u001b[0m\u001b[0;34m(\u001b[0m\u001b[0mxxx_train\u001b[0m\u001b[0;34m,\u001b[0m \u001b[0myyy_train\u001b[0m\u001b[0;34m)\u001b[0m\u001b[0;34m\u001b[0m\u001b[0m\n\u001b[0m\u001b[1;32m     13\u001b[0m     \u001b[0;32mprint\u001b[0m \u001b[0mgrid\u001b[0m\u001b[0;34m.\u001b[0m\u001b[0mbest_params_\u001b[0m\u001b[0;34m,\u001b[0m \u001b[0;34m-\u001b[0m\u001b[0mgrid\u001b[0m\u001b[0;34m.\u001b[0m\u001b[0mbest_score_\u001b[0m\u001b[0;34m\u001b[0m\u001b[0m\n\u001b[1;32m     14\u001b[0m     \u001b[0;32mreturn\u001b[0m \u001b[0mgrid\u001b[0m\u001b[0;34m.\u001b[0m\u001b[0mbest_params_\u001b[0m\u001b[0;34m\u001b[0m\u001b[0m\n",
      "\u001b[0;32m/Users/kurtov/anaconda/lib/python2.7/site-packages/sklearn/model_selection/_search.pyc\u001b[0m in \u001b[0;36mfit\u001b[0;34m(self, X, y, groups)\u001b[0m\n\u001b[1;32m    943\u001b[0m             \u001b[0mtrain\u001b[0m\u001b[0;34m/\u001b[0m\u001b[0mtest\u001b[0m \u001b[0mset\u001b[0m\u001b[0;34m.\u001b[0m\u001b[0;34m\u001b[0m\u001b[0m\n\u001b[1;32m    944\u001b[0m         \"\"\"\n\u001b[0;32m--> 945\u001b[0;31m         \u001b[0;32mreturn\u001b[0m \u001b[0mself\u001b[0m\u001b[0;34m.\u001b[0m\u001b[0m_fit\u001b[0m\u001b[0;34m(\u001b[0m\u001b[0mX\u001b[0m\u001b[0;34m,\u001b[0m \u001b[0my\u001b[0m\u001b[0;34m,\u001b[0m \u001b[0mgroups\u001b[0m\u001b[0;34m,\u001b[0m \u001b[0mParameterGrid\u001b[0m\u001b[0;34m(\u001b[0m\u001b[0mself\u001b[0m\u001b[0;34m.\u001b[0m\u001b[0mparam_grid\u001b[0m\u001b[0;34m)\u001b[0m\u001b[0;34m)\u001b[0m\u001b[0;34m\u001b[0m\u001b[0m\n\u001b[0m\u001b[1;32m    946\u001b[0m \u001b[0;34m\u001b[0m\u001b[0m\n\u001b[1;32m    947\u001b[0m \u001b[0;34m\u001b[0m\u001b[0m\n",
      "\u001b[0;32m/Users/kurtov/anaconda/lib/python2.7/site-packages/sklearn/model_selection/_search.pyc\u001b[0m in \u001b[0;36m_fit\u001b[0;34m(self, X, y, groups, parameter_iterable)\u001b[0m\n\u001b[1;32m    562\u001b[0m                                   \u001b[0mreturn_times\u001b[0m\u001b[0;34m=\u001b[0m\u001b[0mTrue\u001b[0m\u001b[0;34m,\u001b[0m \u001b[0mreturn_parameters\u001b[0m\u001b[0;34m=\u001b[0m\u001b[0mTrue\u001b[0m\u001b[0;34m,\u001b[0m\u001b[0;34m\u001b[0m\u001b[0m\n\u001b[1;32m    563\u001b[0m                                   error_score=self.error_score)\n\u001b[0;32m--> 564\u001b[0;31m           \u001b[0;32mfor\u001b[0m \u001b[0mparameters\u001b[0m \u001b[0;32min\u001b[0m \u001b[0mparameter_iterable\u001b[0m\u001b[0;34m\u001b[0m\u001b[0m\n\u001b[0m\u001b[1;32m    565\u001b[0m           for train, test in cv_iter)\n\u001b[1;32m    566\u001b[0m \u001b[0;34m\u001b[0m\u001b[0m\n",
      "\u001b[0;32m/Users/kurtov/anaconda/lib/python2.7/site-packages/sklearn/externals/joblib/parallel.pyc\u001b[0m in \u001b[0;36m__call__\u001b[0;34m(self, iterable)\u001b[0m\n\u001b[1;32m    766\u001b[0m                 \u001b[0;31m# consumption.\u001b[0m\u001b[0;34m\u001b[0m\u001b[0;34m\u001b[0m\u001b[0m\n\u001b[1;32m    767\u001b[0m                 \u001b[0mself\u001b[0m\u001b[0;34m.\u001b[0m\u001b[0m_iterating\u001b[0m \u001b[0;34m=\u001b[0m \u001b[0mFalse\u001b[0m\u001b[0;34m\u001b[0m\u001b[0m\n\u001b[0;32m--> 768\u001b[0;31m             \u001b[0mself\u001b[0m\u001b[0;34m.\u001b[0m\u001b[0mretrieve\u001b[0m\u001b[0;34m(\u001b[0m\u001b[0;34m)\u001b[0m\u001b[0;34m\u001b[0m\u001b[0m\n\u001b[0m\u001b[1;32m    769\u001b[0m             \u001b[0;31m# Make sure that we get a last message telling us we are done\u001b[0m\u001b[0;34m\u001b[0m\u001b[0;34m\u001b[0m\u001b[0m\n\u001b[1;32m    770\u001b[0m             \u001b[0melapsed_time\u001b[0m \u001b[0;34m=\u001b[0m \u001b[0mtime\u001b[0m\u001b[0;34m.\u001b[0m\u001b[0mtime\u001b[0m\u001b[0;34m(\u001b[0m\u001b[0;34m)\u001b[0m \u001b[0;34m-\u001b[0m \u001b[0mself\u001b[0m\u001b[0;34m.\u001b[0m\u001b[0m_start_time\u001b[0m\u001b[0;34m\u001b[0m\u001b[0m\n",
      "\u001b[0;32m/Users/kurtov/anaconda/lib/python2.7/site-packages/sklearn/externals/joblib/parallel.pyc\u001b[0m in \u001b[0;36mretrieve\u001b[0;34m(self)\u001b[0m\n\u001b[1;32m    717\u001b[0m                     \u001b[0mensure_ready\u001b[0m \u001b[0;34m=\u001b[0m \u001b[0mself\u001b[0m\u001b[0;34m.\u001b[0m\u001b[0m_managed_backend\u001b[0m\u001b[0;34m\u001b[0m\u001b[0m\n\u001b[1;32m    718\u001b[0m                     \u001b[0mbackend\u001b[0m\u001b[0;34m.\u001b[0m\u001b[0mabort_everything\u001b[0m\u001b[0;34m(\u001b[0m\u001b[0mensure_ready\u001b[0m\u001b[0;34m=\u001b[0m\u001b[0mensure_ready\u001b[0m\u001b[0;34m)\u001b[0m\u001b[0;34m\u001b[0m\u001b[0m\n\u001b[0;32m--> 719\u001b[0;31m                 \u001b[0;32mraise\u001b[0m \u001b[0mexception\u001b[0m\u001b[0;34m\u001b[0m\u001b[0m\n\u001b[0m\u001b[1;32m    720\u001b[0m \u001b[0;34m\u001b[0m\u001b[0m\n\u001b[1;32m    721\u001b[0m     \u001b[0;32mdef\u001b[0m \u001b[0m__call__\u001b[0m\u001b[0;34m(\u001b[0m\u001b[0mself\u001b[0m\u001b[0;34m,\u001b[0m \u001b[0miterable\u001b[0m\u001b[0;34m)\u001b[0m\u001b[0;34m:\u001b[0m\u001b[0;34m\u001b[0m\u001b[0m\n",
      "\u001b[0;31mKeyboardInterrupt\u001b[0m: "
     ]
    }
   ],
   "source": [
    "for params in super_params:\n",
    "    opt_fit_params = fit(xxx_train, yyy_train, params, clf_params, fit_params)\n",
    "\n",
    "    opt_params=dict(opt_params, **opt_fit_params)\n",
    "    clf_params=dict(default_params, **opt_params)\n",
    "    print clf_params"
   ]
  },
  {
   "cell_type": "code",
   "execution_count": 50,
   "metadata": {
    "collapsed": false
   },
   "outputs": [
    {
     "ename": "ValueError",
     "evalue": "y_true contains only one label (1). Please provide the true labels explicitly through the labels argument.",
     "output_type": "error",
     "traceback": [
      "\u001b[0;31m---------------------------------------------------------------------------\u001b[0m",
      "\u001b[0;31mValueError\u001b[0m                                Traceback (most recent call last)",
      "\u001b[0;32m<ipython-input-50-7be2b3644bd6>\u001b[0m in \u001b[0;36m<module>\u001b[0;34m()\u001b[0m\n\u001b[0;32m----> 1\u001b[0;31m \u001b[0mlog_loss\u001b[0m\u001b[0;34m(\u001b[0m\u001b[0;34m[\u001b[0m\u001b[0;36m1\u001b[0m\u001b[0;34m]\u001b[0m\u001b[0;34m,\u001b[0m\u001b[0;34m[\u001b[0m\u001b[0;36m0.5\u001b[0m\u001b[0;34m]\u001b[0m\u001b[0;34m)\u001b[0m\u001b[0;34m\u001b[0m\u001b[0m\n\u001b[0m",
      "\u001b[0;32m/Users/kurtov/anaconda/lib/python2.7/site-packages/sklearn/metrics/classification.pyc\u001b[0m in \u001b[0;36mlog_loss\u001b[0;34m(y_true, y_pred, eps, normalize, sample_weight, labels)\u001b[0m\n\u001b[1;32m   1620\u001b[0m             raise ValueError('y_true contains only one label ({0}). Please '\n\u001b[1;32m   1621\u001b[0m                              \u001b[0;34m'provide the true labels explicitly through the '\u001b[0m\u001b[0;34m\u001b[0m\u001b[0m\n\u001b[0;32m-> 1622\u001b[0;31m                              'labels argument.'.format(lb.classes_[0]))\n\u001b[0m\u001b[1;32m   1623\u001b[0m         \u001b[0;32melse\u001b[0m\u001b[0;34m:\u001b[0m\u001b[0;34m\u001b[0m\u001b[0m\n\u001b[1;32m   1624\u001b[0m             raise ValueError('The labels array needs to contain at least two '\n",
      "\u001b[0;31mValueError\u001b[0m: y_true contains only one label (1). Please provide the true labels explicitly through the labels argument."
     ]
    }
   ],
   "source": [
    "log_loss([1],[0.5])"
   ]
  },
  {
   "cell_type": "code",
   "execution_count": 51,
   "metadata": {
    "collapsed": true
   },
   "outputs": [],
   "source": [
    "import scipy as sp\n",
    "def logloss(act, pred):\n",
    "    epsilon = 1e-15\n",
    "    pred = sp.maximum(epsilon, pred)\n",
    "    pred = sp.minimum(1-epsilon, pred)\n",
    "    ll = sum(act*sp.log(pred) + sp.subtract(1,act)*sp.log(sp.subtract(1,pred)))\n",
    "    ll = ll * -1.0/len(act)\n",
    "    return ll"
   ]
  },
  {
   "cell_type": "code",
   "execution_count": 53,
   "metadata": {
    "collapsed": false
   },
   "outputs": [
    {
     "data": {
      "text/plain": [
       "0.69314718055994529"
      ]
     },
     "execution_count": 53,
     "metadata": {},
     "output_type": "execute_result"
    }
   ],
   "source": [
    "logloss([1,1],[0.5,0.5])"
   ]
  },
  {
   "cell_type": "code",
   "execution_count": 54,
   "metadata": {
    "collapsed": false
   },
   "outputs": [
    {
     "data": {
      "text/plain": [
       "0.69314718055994529"
      ]
     },
     "execution_count": 54,
     "metadata": {},
     "output_type": "execute_result"
    }
   ],
   "source": [
    "logloss([1,1,1,1,1],[0.5,0.5,0.5,0.5,0.5])"
   ]
  },
  {
   "cell_type": "code",
   "execution_count": null,
   "metadata": {
    "collapsed": true
   },
   "outputs": [],
   "source": []
  }
 ],
 "metadata": {
  "anaconda-cloud": {},
  "kernelspec": {
   "display_name": "Python [Root]",
   "language": "python",
   "name": "Python [Root]"
  },
  "language_info": {
   "codemirror_mode": {
    "name": "ipython",
    "version": 2
   },
   "file_extension": ".py",
   "mimetype": "text/x-python",
   "name": "python",
   "nbconvert_exporter": "python",
   "pygments_lexer": "ipython2",
   "version": "2.7.12"
  }
 },
 "nbformat": 4,
 "nbformat_minor": 0
}
