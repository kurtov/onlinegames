{
 "cells": [
  {
   "cell_type": "code",
   "execution_count": 67,
   "metadata": {
    "collapsed": true
   },
   "outputs": [],
   "source": [
    "import xgboost as xgb\n",
    "from xgboost.sklearn import XGBClassifier\n",
    "\n",
    "import numpy as np\n",
    "import pandas as pd\n",
    "import matplotlib.pyplot as plt\n",
    "from sklearn.svm import SVC\n",
    "from sklearn.neighbors import KNeighborsClassifier\n",
    "from sklearn.model_selection import GridSearchCV\n",
    "from sklearn.model_selection import cross_val_score\n",
    "from sklearn.ensemble import RandomForestClassifier\n",
    "from sklearn.ensemble import GradientBoostingClassifier\n",
    "from sklearn.metrics import log_loss\n",
    "from sklearn.calibration import CalibratedClassifierCV\n",
    "from sklearn.model_selection import KFold\n",
    "\n",
    "plt.style.use('ggplot')\n",
    "%matplotlib inline\n",
    "\n",
    "x_train = pd.read_csv('data/x_train_norm.csv', sep=';', na_values='?')\n",
    "x_test = pd.read_csv('data/x_test_norm.csv', sep=';', na_values='?')\n",
    "y_train = pd.read_csv('data/y_train.csv', sep=';', header=None, na_values='?')[0]\n",
    "\n",
    "\n",
    "\n",
    "# import scipy as sp\n",
    "# def logloss(act, pred):\n",
    "#     epsilon = 1e-15\n",
    "#     pred = sp.maximum(epsilon, pred)\n",
    "#     pred = sp.minimum(1-epsilon, pred)\n",
    "#     ll = sum(act*sp.log(pred) + sp.subtract(1,act)*sp.log(sp.subtract(1,pred)))\n",
    "#     ll = ll * -1.0/len(act)\n",
    "#     return ll\n",
    "\n",
    "# def scorer_logloss(estimator, X, y):\n",
    "#     return logloss(y, estimator.predict_proba(X)[:,1])\n",
    "\n",
    "def scorer_logloss(estimator, X, y):\n",
    "    return log_loss(y, estimator.predict_proba(X)) # аналогично этому: estimator.predict_proba(X)[:,1]\n",
    "\n",
    "def revert_scorer_logloss(estimator, X, y):\n",
    "    return -1 * scorer_logloss(estimator, X, y)\n",
    "# # read in data\n",
    "# dtrain = xgb.DMatrix('demo/data/agaricus.txt.train')\n",
    "# dtest = xgb.DMatrix('demo/data/agaricus.txt.test')\n",
    "# # specify parameters via map\n",
    "# param = {'max_depth':2, 'eta':1, 'silent':1, 'objective':'binary:logistic' }\n",
    "# num_round = 2\n",
    "# bst = xgb.train(param, dtrain, num_round)\n",
    "# # make prediction\n",
    "# preds = bst.predict(dtest)\n"
   ]
  },
  {
   "cell_type": "code",
   "execution_count": 5,
   "metadata": {
    "collapsed": true
   },
   "outputs": [],
   "source": [
    "classifier = xgb.XGBClassifier()"
   ]
  },
  {
   "cell_type": "code",
   "execution_count": 6,
   "metadata": {
    "collapsed": true
   },
   "outputs": [],
   "source": [
    "crossed = cross_val_score(classifier, x_train, y_train, scoring=scorer_logloss, n_jobs=3)"
   ]
  },
  {
   "cell_type": "code",
   "execution_count": 7,
   "metadata": {
    "collapsed": false
   },
   "outputs": [
    {
     "data": {
      "text/plain": [
       "array([ 0.38403126,  0.37941666,  0.38666644])"
      ]
     },
     "execution_count": 7,
     "metadata": {},
     "output_type": "execute_result"
    }
   ],
   "source": [
    "crossed"
   ]
  },
  {
   "cell_type": "code",
   "execution_count": 9,
   "metadata": {
    "collapsed": false
   },
   "outputs": [
    {
     "data": {
      "text/plain": [
       "<xgboost.core.DMatrix at 0x10e6180d0>"
      ]
     },
     "execution_count": 9,
     "metadata": {},
     "output_type": "execute_result"
    }
   ],
   "source": [
    "xgb.DMatrix(x_train, label=y_train)"
   ]
  },
  {
   "cell_type": "code",
   "execution_count": 12,
   "metadata": {
    "collapsed": false
   },
   "outputs": [
    {
     "data": {
      "text/plain": [
       "array([[ 1.03107779, -0.18642199, -0.06652753, ..., -0.20096117,\n",
       "        -0.2583056 ,  1.        ],\n",
       "       [ 0.13175117,  0.74032995,  2.34186796, ...,  0.82190428,\n",
       "         0.46877682,  1.        ],\n",
       "       [-0.66765028, -0.49533931, -0.36757697, ..., -0.43962977,\n",
       "        -0.62184681,  0.        ],\n",
       "       ..., \n",
       "       [-0.61768769, -0.41810998, -0.21705225, ..., -0.37143874,\n",
       "        -0.62184681,  0.        ],\n",
       "       [ 1.83047923, -0.88148595, -0.36757697, ..., -0.88287146,\n",
       "        -0.62184681,  1.        ],\n",
       "       [-0.86750064, -0.80425662, -0.36757697, ..., -0.81468043,\n",
       "        -0.62184681,  0.        ]])"
      ]
     },
     "execution_count": 12,
     "metadata": {},
     "output_type": "execute_result"
    }
   ],
   "source": [
    "x_train.values"
   ]
  },
  {
   "cell_type": "code",
   "execution_count": 18,
   "metadata": {
    "collapsed": true
   },
   "outputs": [],
   "source": [
    "def modelfit(alg, X, y, useTrainCV=True, cv_folds=5, early_stopping_rounds=50):\n",
    "    \n",
    "    if useTrainCV:\n",
    "        xgb_param = alg.get_xgb_params()\n",
    "        xgtrain = xgb.DMatrix(X.values, label=y.values)\n",
    "        cvresult = xgb.cv(xgb_param, xgtrain, num_boost_round=alg.get_params()['n_estimators'], nfold=cv_folds,\n",
    "            metrics='logloss', early_stopping_rounds=early_stopping_rounds)\n",
    "        alg.set_params(n_estimators=cvresult.shape[0])\n",
    "    \n",
    "    #Fit the algorithm on the data\n",
    "    alg.fit(X, y ,eval_metric='logloss')\n",
    "        \n",
    "    #Predict training set:\n",
    "    #dtrain_predictions = alg.predict(dtrain[predictors])\n",
    "    dtrain_predprob = alg.predict_proba(X)[:,1]\n",
    "        \n",
    "    #Print model report:\n",
    "    print \"\\nModel Report\"\n",
    "    #print \"Accuracy : %.4g\" % metrics.accuracy_score(dtrain['Disbursed'].values, dtrain_predictions)\n",
    "    #print \"AUC Score (Train): %f\" % metrics.roc_auc_score(dtrain['Disbursed'], dtrain_predprob)\n",
    "    print 'logloss: %f' % log_loss(y, dtrain_predprob)\n",
    "                    \n",
    "    feat_imp = pd.Series(alg.booster().get_fscore()).sort_values(ascending=False)\n",
    "    feat_imp.plot(kind='bar', title='Feature Importances')\n",
    "    plt.ylabel('Feature Importance Score')"
   ]
  },
  {
   "cell_type": "code",
   "execution_count": 19,
   "metadata": {
    "collapsed": false
   },
   "outputs": [
    {
     "name": "stdout",
     "output_type": "stream",
     "text": [
      "\n",
      "Model Report\n",
      "logloss: 0.363009\n"
     ]
    },
    {
     "data": {
      "image/png": "[encoded data removed]",
      "text/plain": [
       "<matplotlib.figure.Figure at 0x10e17c6d0>"
      ]
     },
     "metadata": {},
     "output_type": "display_data"
    }
   ],
   "source": [
    "xgb1 = xgb.XGBClassifier(\n",
    " learning_rate =0.1,\n",
    " n_estimators=1000,\n",
    " max_depth=5,\n",
    " min_child_weight=1,\n",
    " gamma=0,\n",
    " subsample=0.8,\n",
    " colsample_bytree=0.8,\n",
    " objective= 'binary:logistic',\n",
    " nthread=4,\n",
    " scale_pos_weight=1,\n",
    " seed=27)\n",
    "modelfit(xgb1, x_train, y_train)"
   ]
  },
  {
   "cell_type": "code",
   "execution_count": 22,
   "metadata": {
    "collapsed": false
   },
   "outputs": [
    {
     "name": "stderr",
     "output_type": "stream",
     "text": [
      "/Users/kurtov/anaconda/lib/python2.7/site-packages/sklearn/model_selection/_search.py:667: DeprecationWarning: The grid_scores_ attribute was deprecated in version 0.18 in favor of the more elaborate cv_results_ attribute. The grid_scores_ attribute will not be available from 0.20\n",
      "  DeprecationWarning)\n"
     ]
    },
    {
     "data": {
      "text/plain": [
       "([mean: -0.38306, std: 0.00302, params: {'max_depth': 3, 'min_child_weight': 1},\n",
       "  mean: -0.38301, std: 0.00310, params: {'max_depth': 3, 'min_child_weight': 3},\n",
       "  mean: -0.38278, std: 0.00304, params: {'max_depth': 3, 'min_child_weight': 5},\n",
       "  mean: -0.38718, std: 0.00469, params: {'max_depth': 5, 'min_child_weight': 1},\n",
       "  mean: -0.38702, std: 0.00448, params: {'max_depth': 5, 'min_child_weight': 3},\n",
       "  mean: -0.38629, std: 0.00450, params: {'max_depth': 5, 'min_child_weight': 5},\n",
       "  mean: -0.39451, std: 0.00558, params: {'max_depth': 7, 'min_child_weight': 1},\n",
       "  mean: -0.39412, std: 0.00540, params: {'max_depth': 7, 'min_child_weight': 3},\n",
       "  mean: -0.39279, std: 0.00582, params: {'max_depth': 7, 'min_child_weight': 5},\n",
       "  mean: -0.40611, std: 0.00714, params: {'max_depth': 9, 'min_child_weight': 1},\n",
       "  mean: -0.40312, std: 0.00703, params: {'max_depth': 9, 'min_child_weight': 3},\n",
       "  mean: -0.39750, std: 0.00512, params: {'max_depth': 9, 'min_child_weight': 5}],\n",
       " {'max_depth': 3, 'min_child_weight': 5},\n",
       " -0.38277516345398688)"
      ]
     },
     "execution_count": 22,
     "metadata": {},
     "output_type": "execute_result"
    }
   ],
   "source": [
    "param_test1 = {\n",
    " 'max_depth':range(3,10,2),\n",
    " 'min_child_weight':range(1,6,2)\n",
    "}\n",
    "gsearch1 = GridSearchCV(\n",
    "    estimator = XGBClassifier(\n",
    "        learning_rate =0.1,\n",
    "        n_estimators=140,\n",
    "        max_depth=5,\n",
    "        min_child_weight=1,\n",
    "        gamma=0,\n",
    "        subsample=0.8,\n",
    "        colsample_bytree=0.8,\n",
    "        objective= 'binary:logistic',\n",
    "        nthread=4,\n",
    "        scale_pos_weight=1,\n",
    "        seed=27), \n",
    "    param_grid = param_test1,\n",
    "    scoring=revert_scorer_logloss,\n",
    "    n_jobs=4,\n",
    "    iid=False,\n",
    "    cv=3)\n",
    "\n",
    "gsearch1.fit(x_train, y_train)\n",
    "gsearch1.cv_results_, gsearch1.best_params_, -gsearch1.best_score_"
   ]
  },
  {
   "cell_type": "code",
   "execution_count": 23,
   "metadata": {
    "collapsed": true
   },
   "outputs": [
    {
     "data": {
      "text/plain": [
       "({'mean_fit_time': array([ 1.07926202,  1.09394296,  0.93116363,  0.87342731,  0.83454736,\n",
       "          0.92734496,  1.00486525,  0.88095164,  0.84354536,  1.29614798,\n",
       "          1.3009963 ,  1.29499896,  1.29136944,  1.32265162,  1.36866736,\n",
       "          1.45422339,  1.32169692,  1.37199664,  1.89302897,  1.78734525,\n",
       "          1.78001602,  1.77726698,  1.83173275,  1.83297332,  1.76836435,\n",
       "          1.80830423,  2.14240996,  2.77741226,  2.93552264,  2.94469062,\n",
       "          3.14646594,  2.76131972,  2.28909024,  2.34223   ,  2.61511   ,\n",
       "          2.55215343,  3.17459965,  3.10463699,  2.87395906,  2.95961062,\n",
       "          2.95515172,  3.17239833,  2.96269894,  3.02299968,  2.9959867 ,\n",
       "          3.62675031,  3.54419041,  3.51636068,  3.34216301,  3.56515368,\n",
       "          4.07761629,  5.32237601,  5.59084702,  4.46849028,  4.87117195,\n",
       "          4.14528831,  3.83524998,  3.82953564,  4.16136694,  4.61953966,\n",
       "          4.36346165,  4.01352843,  3.99123359,  4.65512554,  4.56368899,\n",
       "          4.512405  ,  4.56902297,  4.53629255,  4.68304229,  5.26619291,\n",
       "          4.50803701,  4.40375622,  5.3945028 ,  4.9007074 ,  4.963082  ,\n",
       "          5.26682631,  5.47916166,  5.13859399,  5.15108061,  5.03147634,\n",
       "          4.43445214]),\n",
       "  'mean_score_time': array([ 0.07963268,  0.03545872,  0.02631839,  0.03181529,  0.03009796,\n",
       "          0.03663874,  0.02890674,  0.02620999,  0.02722867,  0.04321432,\n",
       "          0.03989935,  0.04023274,  0.04013197,  0.04064226,  0.0436213 ,\n",
       "          0.04032437,  0.04285638,  0.04827396,  0.05000408,  0.05197477,\n",
       "          0.05163972,  0.05481235,  0.05247156,  0.05138938,  0.05236491,\n",
       "          0.05444145,  0.05292837,  0.07195703,  0.07674011,  0.09505399,\n",
       "          0.08120767,  0.06993127,  0.06860201,  0.07296371,  0.08039904,\n",
       "          0.08222159,  0.09128944,  0.07680662,  0.08212892,  0.07913733,\n",
       "          0.0802029 ,  0.08514563,  0.08035739,  0.09015266,  0.08572396,\n",
       "          0.114024  ,  0.10392563,  0.09478394,  0.09690499,  0.11642543,\n",
       "          0.15022763,  0.14151827,  0.190142  ,  0.13367168,  0.13478303,\n",
       "          0.12128798,  0.11800369,  0.12229943,  0.14301872,  0.13618135,\n",
       "          0.11613933,  0.12532465,  0.12081146,  0.15644638,  0.155677  ,\n",
       "          0.14982295,  0.14344803,  0.15288774,  0.16297809,  0.14123567,\n",
       "          0.14701947,  0.1388394 ,  0.17738159,  0.16529004,  0.17891534,\n",
       "          0.19578799,  0.17738636,  0.15731096,  0.15969062,  0.17161067,\n",
       "          0.12591863]),\n",
       "  'mean_test_score': array([-0.38531414, -0.38531414, -0.38531414, -0.38531414, -0.38531098,\n",
       "         -0.38531098, -0.38529129, -0.38533415, -0.38533758, -0.38331611,\n",
       "         -0.38315882, -0.3831898 , -0.38318368, -0.38323505, -0.38314823,\n",
       "         -0.38314362, -0.38309945, -0.38314071, -0.3830592 , -0.38302919,\n",
       "         -0.38300585, -0.38287109, -0.38277516, -0.38275821, -0.38255063,\n",
       "         -0.38284073, -0.38253671, -0.38505978, -0.38435701, -0.38433812,\n",
       "         -0.38449119, -0.38459354, -0.38417886, -0.38411993, -0.38418671,\n",
       "         -0.38402948, -0.38718334, -0.38676587, -0.38702065, -0.38637431,\n",
       "         -0.38628733, -0.38644619, -0.38618409, -0.38569131, -0.38545777,\n",
       "         -0.39044893, -0.39056232, -0.38947553, -0.38869627, -0.3886045 ,\n",
       "         -0.38901511, -0.38840135, -0.38819311, -0.38776814, -0.39451252,\n",
       "         -0.39454409, -0.3941183 , -0.39221134, -0.3927892 , -0.39191433,\n",
       "         -0.39076476, -0.38974377, -0.39016365, -0.4000962 , -0.39837529,\n",
       "         -0.39675875, -0.39620965, -0.39531626, -0.39513263, -0.39339744,\n",
       "         -0.39308849, -0.39244528, -0.40610927, -0.40345308, -0.40312075,\n",
       "         -0.40061211, -0.39750391, -0.39733871, -0.39595314, -0.39580429,\n",
       "         -0.3944612 ]),\n",
       "  'mean_train_score': array([-0.38167704, -0.38167704, -0.38167704, -0.38167704, -0.38168152,\n",
       "         -0.38168152, -0.38168224, -0.38168674, -0.38168941, -0.37395743,\n",
       "         -0.37405746, -0.37402982, -0.37401803, -0.37411856, -0.37408288,\n",
       "         -0.37424156, -0.3742906 , -0.37429556, -0.363053  , -0.36323405,\n",
       "         -0.36374518, -0.3638348 , -0.36397419, -0.36426632, -0.36464994,\n",
       "         -0.36452246, -0.364891  , -0.34777211, -0.34839746, -0.34983451,\n",
       "         -0.35068424, -0.35092617, -0.35160945, -0.35216977, -0.35259262,\n",
       "         -0.35323705, -0.32559824, -0.32971117, -0.33125612, -0.33339774,\n",
       "         -0.33440808, -0.33598735, -0.33821876, -0.33950702, -0.34001847,\n",
       "         -0.2995969 , -0.30565693, -0.31010833, -0.31377481, -0.31666835,\n",
       "         -0.31934822, -0.3218766 , -0.32345988, -0.325127  , -0.27043922,\n",
       "         -0.28104137, -0.2881652 , -0.29390354, -0.29829815, -0.30281134,\n",
       "         -0.30707249, -0.3097179 , -0.31222334, -0.24001245, -0.25524358,\n",
       "         -0.26609711, -0.27394184, -0.28074286, -0.28670936, -0.29112559,\n",
       "         -0.29497031, -0.30018306, -0.21087591, -0.23120815, -0.24566554,\n",
       "         -0.25655746, -0.26564957, -0.27190601, -0.27868282, -0.28491527,\n",
       "         -0.28833421]),\n",
       "  'param_max_depth': masked_array(data = [1 1 1 1 1 1 1 1 1 2 2 2 2 2 2 2 2 2 3 3 3 3 3 3 3 3 3 4 4 4 4 4 4 4 4 4 5\n",
       "   5 5 5 5 5 5 5 5 6 6 6 6 6 6 6 6 6 7 7 7 7 7 7 7 7 7 8 8 8 8 8 8 8 8 8 9 9\n",
       "   9 9 9 9 9 9 9],\n",
       "               mask = [False False False False False False False False False False False False\n",
       "   False False False False False False False False False False False False\n",
       "   False False False False False False False False False False False False\n",
       "   False False False False False False False False False False False False\n",
       "   False False False False False False False False False False False False\n",
       "   False False False False False False False False False False False False\n",
       "   False False False False False False False False False],\n",
       "         fill_value = ?),\n",
       "  'param_min_child_weight': masked_array(data = [1 2 3 4 5 6 7 8 9 1 2 3 4 5 6 7 8 9 1 2 3 4 5 6 7 8 9 1 2 3 4 5 6 7 8 9 1\n",
       "   2 3 4 5 6 7 8 9 1 2 3 4 5 6 7 8 9 1 2 3 4 5 6 7 8 9 1 2 3 4 5 6 7 8 9 1 2\n",
       "   3 4 5 6 7 8 9],\n",
       "               mask = [False False False False False False False False False False False False\n",
       "   False False False False False False False False False False False False\n",
       "   False False False False False False False False False False False False\n",
       "   False False False False False False False False False False False False\n",
       "   False False False False False False False False False False False False\n",
       "   False False False False False False False False False False False False\n",
       "   False False False False False False False False False],\n",
       "         fill_value = ?),\n",
       "  'params': ({'max_depth': 1, 'min_child_weight': 1},\n",
       "   {'max_depth': 1, 'min_child_weight': 2},\n",
       "   {'max_depth': 1, 'min_child_weight': 3},\n",
       "   {'max_depth': 1, 'min_child_weight': 4},\n",
       "   {'max_depth': 1, 'min_child_weight': 5},\n",
       "   {'max_depth': 1, 'min_child_weight': 6},\n",
       "   {'max_depth': 1, 'min_child_weight': 7},\n",
       "   {'max_depth': 1, 'min_child_weight': 8},\n",
       "   {'max_depth': 1, 'min_child_weight': 9},\n",
       "   {'max_depth': 2, 'min_child_weight': 1},\n",
       "   {'max_depth': 2, 'min_child_weight': 2},\n",
       "   {'max_depth': 2, 'min_child_weight': 3},\n",
       "   {'max_depth': 2, 'min_child_weight': 4},\n",
       "   {'max_depth': 2, 'min_child_weight': 5},\n",
       "   {'max_depth': 2, 'min_child_weight': 6},\n",
       "   {'max_depth': 2, 'min_child_weight': 7},\n",
       "   {'max_depth': 2, 'min_child_weight': 8},\n",
       "   {'max_depth': 2, 'min_child_weight': 9},\n",
       "   {'max_depth': 3, 'min_child_weight': 1},\n",
       "   {'max_depth': 3, 'min_child_weight': 2},\n",
       "   {'max_depth': 3, 'min_child_weight': 3},\n",
       "   {'max_depth': 3, 'min_child_weight': 4},\n",
       "   {'max_depth': 3, 'min_child_weight': 5},\n",
       "   {'max_depth': 3, 'min_child_weight': 6},\n",
       "   {'max_depth': 3, 'min_child_weight': 7},\n",
       "   {'max_depth': 3, 'min_child_weight': 8},\n",
       "   {'max_depth': 3, 'min_child_weight': 9},\n",
       "   {'max_depth': 4, 'min_child_weight': 1},\n",
       "   {'max_depth': 4, 'min_child_weight': 2},\n",
       "   {'max_depth': 4, 'min_child_weight': 3},\n",
       "   {'max_depth': 4, 'min_child_weight': 4},\n",
       "   {'max_depth': 4, 'min_child_weight': 5},\n",
       "   {'max_depth': 4, 'min_child_weight': 6},\n",
       "   {'max_depth': 4, 'min_child_weight': 7},\n",
       "   {'max_depth': 4, 'min_child_weight': 8},\n",
       "   {'max_depth': 4, 'min_child_weight': 9},\n",
       "   {'max_depth': 5, 'min_child_weight': 1},\n",
       "   {'max_depth': 5, 'min_child_weight': 2},\n",
       "   {'max_depth': 5, 'min_child_weight': 3},\n",
       "   {'max_depth': 5, 'min_child_weight': 4},\n",
       "   {'max_depth': 5, 'min_child_weight': 5},\n",
       "   {'max_depth': 5, 'min_child_weight': 6},\n",
       "   {'max_depth': 5, 'min_child_weight': 7},\n",
       "   {'max_depth': 5, 'min_child_weight': 8},\n",
       "   {'max_depth': 5, 'min_child_weight': 9},\n",
       "   {'max_depth': 6, 'min_child_weight': 1},\n",
       "   {'max_depth': 6, 'min_child_weight': 2},\n",
       "   {'max_depth': 6, 'min_child_weight': 3},\n",
       "   {'max_depth': 6, 'min_child_weight': 4},\n",
       "   {'max_depth': 6, 'min_child_weight': 5},\n",
       "   {'max_depth': 6, 'min_child_weight': 6},\n",
       "   {'max_depth': 6, 'min_child_weight': 7},\n",
       "   {'max_depth': 6, 'min_child_weight': 8},\n",
       "   {'max_depth': 6, 'min_child_weight': 9},\n",
       "   {'max_depth': 7, 'min_child_weight': 1},\n",
       "   {'max_depth': 7, 'min_child_weight': 2},\n",
       "   {'max_depth': 7, 'min_child_weight': 3},\n",
       "   {'max_depth': 7, 'min_child_weight': 4},\n",
       "   {'max_depth': 7, 'min_child_weight': 5},\n",
       "   {'max_depth': 7, 'min_child_weight': 6},\n",
       "   {'max_depth': 7, 'min_child_weight': 7},\n",
       "   {'max_depth': 7, 'min_child_weight': 8},\n",
       "   {'max_depth': 7, 'min_child_weight': 9},\n",
       "   {'max_depth': 8, 'min_child_weight': 1},\n",
       "   {'max_depth': 8, 'min_child_weight': 2},\n",
       "   {'max_depth': 8, 'min_child_weight': 3},\n",
       "   {'max_depth': 8, 'min_child_weight': 4},\n",
       "   {'max_depth': 8, 'min_child_weight': 5},\n",
       "   {'max_depth': 8, 'min_child_weight': 6},\n",
       "   {'max_depth': 8, 'min_child_weight': 7},\n",
       "   {'max_depth': 8, 'min_child_weight': 8},\n",
       "   {'max_depth': 8, 'min_child_weight': 9},\n",
       "   {'max_depth': 9, 'min_child_weight': 1},\n",
       "   {'max_depth': 9, 'min_child_weight': 2},\n",
       "   {'max_depth': 9, 'min_child_weight': 3},\n",
       "   {'max_depth': 9, 'min_child_weight': 4},\n",
       "   {'max_depth': 9, 'min_child_weight': 5},\n",
       "   {'max_depth': 9, 'min_child_weight': 6},\n",
       "   {'max_depth': 9, 'min_child_weight': 7},\n",
       "   {'max_depth': 9, 'min_child_weight': 8},\n",
       "   {'max_depth': 9, 'min_child_weight': 9}),\n",
       "  'rank_test_score': array([31, 31, 31, 31, 29, 29, 28, 35, 36, 18, 14, 16, 15, 17, 13, 12, 10,\n",
       "         11,  9,  8,  7,  6,  4,  3,  2,  5,  1, 27, 24, 23, 25, 26, 21, 20,\n",
       "         22, 19, 45, 43, 44, 41, 40, 42, 39, 38, 37, 55, 56, 52, 50, 49, 51,\n",
       "         48, 47, 46, 66, 67, 64, 59, 61, 58, 57, 53, 54, 77, 76, 73, 72, 69,\n",
       "         68, 63, 62, 60, 81, 80, 79, 78, 75, 74, 71, 70, 65], dtype=int32),\n",
       "  'split0_test_score': array([-0.38576805, -0.38576805, -0.38576805, -0.38576805, -0.38576805,\n",
       "         -0.38576805, -0.38564473, -0.38576002, -0.38570851, -0.38352914,\n",
       "         -0.38353486, -0.38353441, -0.38323146, -0.38358917, -0.38336746,\n",
       "         -0.38343612, -0.38329956, -0.38342111, -0.38389693, -0.38400315,\n",
       "         -0.38394059, -0.38367769, -0.38340596, -0.3834124 , -0.3830027 ,\n",
       "         -0.3830447 , -0.38303289, -0.3854855 , -0.38531319, -0.38481677,\n",
       "         -0.38496967, -0.38488088, -0.38451486, -0.38404626, -0.38424248,\n",
       "         -0.38380203, -0.38722834, -0.38769105, -0.38721226, -0.3860296 ,\n",
       "         -0.38564779, -0.38593052, -0.38694885, -0.38543574, -0.38601005,\n",
       "         -0.39033916, -0.39089181, -0.38988535, -0.38836679, -0.38819856,\n",
       "         -0.38944109, -0.3882016 , -0.38863318, -0.38675806, -0.39548413,\n",
       "         -0.39648571, -0.39425649, -0.39075207, -0.39273522, -0.39227077,\n",
       "         -0.38988388, -0.38968268, -0.38920668, -0.39924469, -0.39895538,\n",
       "         -0.3960361 , -0.39474286, -0.39570601, -0.39491752, -0.39314842,\n",
       "         -0.39387384, -0.39179969, -0.40409217, -0.40188731, -0.40318536,\n",
       "         -0.40067355, -0.39674505, -0.39715418, -0.39638555, -0.39427354,\n",
       "         -0.39262468]),\n",
       "  'split0_train_score': array([-0.38173257, -0.38173257, -0.38173257, -0.38173257, -0.38173257,\n",
       "         -0.38173257, -0.38173285, -0.38174374, -0.38175069, -0.37418304,\n",
       "         -0.374199  , -0.37417464, -0.37423172, -0.37435509, -0.37433479,\n",
       "         -0.37449425, -0.37441451, -0.37459075, -0.36335241, -0.36367337,\n",
       "         -0.36414947, -0.36439898, -0.36429334, -0.36498331, -0.36539881,\n",
       "         -0.36545424, -0.36543209, -0.34899446, -0.34915303, -0.35138072,\n",
       "         -0.35139719, -0.35168374, -0.35228892, -0.35329517, -0.35344501,\n",
       "         -0.35446431, -0.32713411, -0.33141079, -0.33233063, -0.33490126,\n",
       "         -0.33542592, -0.33699488, -0.33929005, -0.34093567, -0.34139919,\n",
       "         -0.3007128 , -0.30756513, -0.31237213, -0.31568076, -0.31907137,\n",
       "         -0.32113136, -0.32324455, -0.32460488, -0.32666277, -0.27200252,\n",
       "         -0.28426975, -0.29004526, -0.29692604, -0.29989052, -0.30433515,\n",
       "         -0.30944428, -0.31218354, -0.31424444, -0.24314315, -0.2587711 ,\n",
       "         -0.269112  , -0.27735328, -0.28257969, -0.28834865, -0.29236293,\n",
       "         -0.29613495, -0.30159479, -0.21756537, -0.23530665, -0.24870352,\n",
       "         -0.25792312, -0.26857372, -0.27271632, -0.27910344, -0.286249  ,\n",
       "         -0.28973362]),\n",
       "  'split1_test_score': array([-0.38233573, -0.38233573, -0.38233573, -0.38233573, -0.38233573,\n",
       "         -0.38233573, -0.38230285, -0.38231613, -0.38237796, -0.37957537,\n",
       "         -0.37926982, -0.37941069, -0.37943475, -0.37916918, -0.37947098,\n",
       "         -0.37937317, -0.37940992, -0.37949773, -0.37901005, -0.37916873,\n",
       "         -0.37882927, -0.37869691, -0.37878265, -0.37868565, -0.37869476,\n",
       "         -0.37924918, -0.37848905, -0.38085662, -0.37990863, -0.38002331,\n",
       "         -0.37995875, -0.3808061 , -0.38004491, -0.3802896 , -0.37998007,\n",
       "         -0.38016958, -0.38141806, -0.38111324, -0.38144163, -0.38125032,\n",
       "         -0.3811193 , -0.3813191 , -0.38059859, -0.38161657, -0.38021585,\n",
       "         -0.38518774, -0.38505489, -0.38418953, -0.38412577, -0.38388279,\n",
       "         -0.38408251, -0.38392205, -0.38396148, -0.38305847, -0.38724622,\n",
       "         -0.3880902 , -0.38743943, -0.38687703, -0.38569264, -0.38584242,\n",
       "         -0.38558675, -0.38453452, -0.38470134, -0.39377946, -0.39076427,\n",
       "         -0.3899335 , -0.38999126, -0.38954987, -0.38780156, -0.38632238,\n",
       "         -0.38658737, -0.38648234, -0.39854657, -0.39583784, -0.39447371,\n",
       "         -0.39212087, -0.39164592, -0.39008395, -0.38850748, -0.39049183,\n",
       "         -0.38840222]),\n",
       "  'split1_train_score': array([-0.38322672, -0.38322672, -0.38322672, -0.38322672, -0.38322672,\n",
       "         -0.38322672, -0.38322396, -0.38322656, -0.38322763, -0.37535848,\n",
       "         -0.37544928, -0.37535424, -0.37544184, -0.37541323, -0.37534745,\n",
       "         -0.37546729, -0.37570307, -0.37559589, -0.36391241, -0.3645393 ,\n",
       "         -0.3649336 , -0.36498581, -0.36512668, -0.36528748, -0.36578039,\n",
       "         -0.36558347, -0.36635139, -0.34835194, -0.34932035, -0.35044614,\n",
       "         -0.3517364 , -0.35163991, -0.35281019, -0.35306897, -0.35444126,\n",
       "         -0.35440067, -0.32605814, -0.32998407, -0.33276831, -0.33420907,\n",
       "         -0.33583766, -0.33732232, -0.33993018, -0.34126975, -0.34103483,\n",
       "         -0.30061627, -0.30609785, -0.31095582, -0.31435069, -0.31747816,\n",
       "         -0.3195741 , -0.32319706, -0.32528009, -0.3263876 , -0.2699978 ,\n",
       "         -0.28206238, -0.28888697, -0.29454916, -0.29980284, -0.30484679,\n",
       "         -0.30915152, -0.31111954, -0.31439924, -0.23908368, -0.25615425,\n",
       "         -0.26665433, -0.27539051, -0.28106919, -0.28704817, -0.29297623,\n",
       "         -0.29619558, -0.30217326, -0.20947801, -0.23168583, -0.24640039,\n",
       "         -0.26018265, -0.26775863, -0.27360137, -0.28005536, -0.28601531,\n",
       "         -0.29160624]),\n",
       "  'split2_test_score': array([-0.38783864, -0.38783864, -0.38783864, -0.38783864, -0.38782916,\n",
       "         -0.38782916, -0.38792629, -0.38792629, -0.38792629, -0.38684383,\n",
       "         -0.38667179, -0.38662432, -0.38688482, -0.3869468 , -0.38660625,\n",
       "         -0.38662156, -0.38658888, -0.3865033 , -0.38627062, -0.3859157 ,\n",
       "         -0.3862477 , -0.38623867, -0.38613688, -0.38617658, -0.38595443,\n",
       "         -0.38622832, -0.38608819, -0.38883723, -0.3878492 , -0.38817429,\n",
       "         -0.38854516, -0.38809364, -0.38797681, -0.38802393, -0.38833759,\n",
       "         -0.38811682, -0.39290361, -0.39149333, -0.39240808, -0.39184302,\n",
       "         -0.3920949 , -0.39208896, -0.39100483, -0.39002161, -0.3901474 ,\n",
       "         -0.39581988, -0.39574025, -0.3943517 , -0.39359626, -0.39373215,\n",
       "         -0.39352175, -0.39308039, -0.39198466, -0.39348787, -0.4008072 ,\n",
       "         -0.39905636, -0.40065897, -0.39900494, -0.39993973, -0.39762981,\n",
       "         -0.39682364, -0.3950141 , -0.39658292, -0.40726445, -0.40540621,\n",
       "         -0.40430664, -0.40389483, -0.40069289, -0.40267881, -0.40072151,\n",
       "         -0.39880425, -0.39905382, -0.41568906, -0.41263409, -0.41170318,\n",
       "         -0.40904189, -0.40412077, -0.40477801, -0.40296639, -0.4026475 ,\n",
       "         -0.40235669]),\n",
       "  'split2_train_score': array([-0.38007184, -0.38007184, -0.38007184, -0.38007184, -0.38008527,\n",
       "         -0.38008527, -0.38008992, -0.38008992, -0.38008992, -0.37233077,\n",
       "         -0.37252411, -0.37256057, -0.37238052, -0.37258737, -0.3725664 ,\n",
       "         -0.37276313, -0.37275423, -0.37270004, -0.36189419, -0.36148947,\n",
       "         -0.36215248, -0.36211961, -0.36250255, -0.36252816, -0.36277062,\n",
       "         -0.36252969, -0.36288952, -0.34596992, -0.346719  , -0.34767667,\n",
       "         -0.34891913, -0.34945485, -0.34972923, -0.35014516, -0.34989158,\n",
       "         -0.35084617, -0.32360247, -0.32773864, -0.32866942, -0.3310829 ,\n",
       "         -0.33196065, -0.33364487, -0.33543604, -0.33631563, -0.33762139,\n",
       "         -0.29746162, -0.30330782, -0.30699703, -0.31129297, -0.31345552,\n",
       "         -0.31733919, -0.31918818, -0.32049466, -0.32233064, -0.26931733,\n",
       "         -0.27679198, -0.28556337, -0.29023542, -0.29520108, -0.29925206,\n",
       "         -0.30262167, -0.30585063, -0.30802633, -0.23781052, -0.2508054 ,\n",
       "         -0.262525  , -0.26908172, -0.27857969, -0.28473125, -0.28803762,\n",
       "         -0.29258039, -0.29678112, -0.20558436, -0.22663196, -0.2418927 ,\n",
       "         -0.25156661, -0.26061635, -0.26940033, -0.27688965, -0.2824815 ,\n",
       "         -0.28366278]),\n",
       "  'std_fit_time': array([ 0.08493626,  0.08034102,  0.04992863,  0.01313807,  0.01802838,\n",
       "          0.092007  ,  0.06262214,  0.00340611,  0.01008151,  0.00730349,\n",
       "          0.01337036,  0.01854198,  0.031839  ,  0.01521684,  0.05658868,\n",
       "          0.02113168,  0.0083284 ,  0.02444497,  0.06175046,  0.01944588,\n",
       "          0.0177169 ,  0.00615813,  0.03257373,  0.04500634,  0.01020111,\n",
       "          0.04202932,  0.06682425,  0.1553717 ,  0.05710745,  0.10392528,\n",
       "          0.03785012,  0.16127616,  0.05023054,  0.0559085 ,  0.03311374,\n",
       "          0.05603569,  0.05390043,  0.06819981,  0.00980019,  0.02455698,\n",
       "          0.06804592,  0.08862242,  0.13030228,  0.12350128,  0.0844434 ,\n",
       "          0.02170599,  0.07544596,  0.16937927,  0.036022  ,  0.0759084 ,\n",
       "          0.37705971,  0.54354595,  0.05648664,  0.11567395,  0.23678196,\n",
       "          0.23632573,  0.04503318,  0.02138994,  0.21705796,  0.10566555,\n",
       "          0.17957015,  0.08754885,  0.04632184,  0.05386853,  0.0298071 ,\n",
       "          0.03772865,  0.01209407,  0.04262266,  0.07290691,  0.18085343,\n",
       "          0.29055442,  0.09785273,  0.01896478,  0.02991661,  0.08505232,\n",
       "          0.05435479,  0.05166666,  0.0686294 ,  0.08447171,  0.1195364 ,\n",
       "          0.19487461]),\n",
       "  'std_score_time': array([ 0.00158334,  0.00948551,  0.00053477,  0.00326007,  0.00292184,\n",
       "          0.01135233,  0.00299838,  0.00089093,  0.00083578,  0.0036447 ,\n",
       "          0.00124935,  0.00021378,  0.00335284,  0.00048541,  0.00323352,\n",
       "          0.00059076,  0.00191262,  0.00499632,  0.00092516,  0.00445568,\n",
       "          0.00192337,  0.00201276,  0.00264042,  0.00141381,  0.00119021,\n",
       "          0.00314844,  0.00186941,  0.00964494,  0.01389548,  0.03178864,\n",
       "          0.01369149,  0.00627962,  0.0079917 ,  0.00861403,  0.00834504,\n",
       "          0.01276521,  0.01636398,  0.0017874 ,  0.00542795,  0.00281524,\n",
       "          0.00107621,  0.00866134,  0.00421424,  0.01258231,  0.00809974,\n",
       "          0.00528538,  0.01297616,  0.00562869,  0.00088629,  0.01209218,\n",
       "          0.01588245,  0.01575885,  0.04582326,  0.00513293,  0.01675731,\n",
       "          0.00358734,  0.00137971,  0.00694265,  0.01353458,  0.01802021,\n",
       "          0.00067727,  0.00310828,  0.00061338,  0.00310597,  0.00370867,\n",
       "          0.00397543,  0.00183108,  0.00534536,  0.04100719,  0.01102022,\n",
       "          0.00729283,  0.00906376,  0.00411076,  0.00267672,  0.01513428,\n",
       "          0.00702484,  0.0231557 ,  0.00708668,  0.00676361,  0.01825668,\n",
       "          0.01942277]),\n",
       "  'std_test_score': array([ 0.00226937,  0.00226937,  0.00226937,  0.00226937,  0.00226585,\n",
       "          0.00226585,  0.00230932,  0.00231005,  0.00228023,  0.00297116,\n",
       "          0.00303352,  0.00295502,  0.00304167,  0.00318506,  0.00291708,\n",
       "          0.00296637,  0.00293421,  0.00286688,  0.00302273,  0.00283923,\n",
       "          0.00309985,  0.00313129,  0.00303531,  0.00309294,  0.00298093,\n",
       "          0.00285287,  0.00312211,  0.00327195,  0.00331148,  0.00334479,\n",
       "          0.00352168,  0.00298206,  0.00324689,  0.00315796,  0.00341217,\n",
       "          0.00324843,  0.00468906,  0.00428786,  0.00447908,  0.00433132,\n",
       "          0.00450353,  0.00441187,  0.00428261,  0.0034361 ,  0.0040733 ,\n",
       "          0.00434125,  0.0043685 ,  0.0041588 ,  0.00387332,  0.00403122,\n",
       "          0.00386531,  0.00374155,  0.0032902 ,  0.00431727,  0.00557871,\n",
       "          0.00468271,  0.00539774,  0.00505758,  0.00581647,  0.00481878,\n",
       "          0.00462953,  0.00427849,  0.00489761,  0.00553805,  0.0059916 ,\n",
       "          0.00589002,  0.00577009,  0.00455746,  0.00607551,  0.00588106,\n",
       "          0.00501834,  0.00515254,  0.00714226,  0.00694585,  0.00703405,\n",
       "          0.00690812,  0.00512102,  0.00600024,  0.00591074,  0.0050792 ,\n",
       "          0.00584302]),\n",
       "  'std_train_score': array([ 0.00128858,  0.00128858,  0.00128858,  0.00128858,  0.001283  ,\n",
       "          0.001283  ,  0.00127997,  0.00128116,  0.0012817 ,  0.00124631,\n",
       "          0.00119838,  0.0011451 ,  0.00125888,  0.00116571,  0.00114925,\n",
       "          0.00111834,  0.00120704,  0.00120051,  0.0008507 ,  0.00128326,\n",
       "          0.00117082,  0.00123626,  0.00109481,  0.00123532,  0.00133798,\n",
       "          0.00141009,  0.00146418,  0.00130106,  0.00118882,  0.0015728 ,\n",
       "          0.00125578,  0.00104053,  0.00134644,  0.00143459,  0.00195275,\n",
       "          0.00169081,  0.00147801,  0.00151152,  0.00183778,  0.00166105,\n",
       "          0.00173874,  0.00166178,  0.00198495,  0.00226077,  0.00170151,\n",
       "          0.00151038,  0.00176578,  0.00227473,  0.00183701,  0.00236309,\n",
       "          0.00155637,  0.00190109,  0.00211477,  0.00198051,  0.0011398 ,\n",
       "          0.00313699,  0.00189957,  0.00276932,  0.00219025,  0.00252544,\n",
       "          0.00314948,  0.00276886,  0.0029684 ,  0.00227394,  0.00331512,\n",
       "          0.00271784,  0.00352881,  0.00164922,  0.0014961 ,  0.00219784,\n",
       "          0.00169011,  0.00241709,  0.00499011,  0.0035575 ,  0.00282864,\n",
       "          0.00364763,  0.00357454,  0.00180825,  0.00132618,  0.00172358,\n",
       "          0.00339052])},\n",
       " {'max_depth': 3, 'min_child_weight': 9},\n",
       " 0.38253670876650864)"
      ]
     },
     "execution_count": 23,
     "metadata": {},
     "output_type": "execute_result"
    }
   ],
   "source": [
    "param_test1 = {\n",
    " 'max_depth':range(1,10),\n",
    " 'min_child_weight':range(1,10)\n",
    "}\n",
    "gsearch1 = GridSearchCV(\n",
    "    estimator = XGBClassifier(\n",
    "        learning_rate =0.1,\n",
    "        n_estimators=140,\n",
    "        max_depth=5,\n",
    "        min_child_weight=1,\n",
    "        gamma=0,\n",
    "        subsample=0.8,\n",
    "        colsample_bytree=0.8,\n",
    "        objective= 'binary:logistic',\n",
    "        nthread=4,\n",
    "        scale_pos_weight=1,\n",
    "        seed=27), \n",
    "    param_grid = param_test1,\n",
    "    scoring=revert_scorer_logloss,\n",
    "    n_jobs=4,\n",
    "    iid=False,\n",
    "    cv=3)\n",
    "\n",
    "gsearch1.fit(x_train, y_train)\n",
    "#gsearch1.cv_results_, \n",
    "gsearch1.best_params_, -gsearch1.best_score_"
   ]
  },
  {
   "cell_type": "code",
   "execution_count": 25,
   "metadata": {
    "collapsed": true
   },
   "outputs": [],
   "source": [
    "max_depth_opt = 3\n",
    "min_child_weight_opt = 9\n",
    "# cv = 0.38253670876650864"
   ]
  },
  {
   "cell_type": "code",
   "execution_count": null,
   "metadata": {
    "collapsed": true
   },
   "outputs": [],
   "source": []
  },
  {
   "cell_type": "code",
   "execution_count": 31,
   "metadata": {
    "collapsed": false
   },
   "outputs": [
    {
     "data": {
      "text/plain": [
       "({'gamma': 0.0}, 0.38253670876650864)"
      ]
     },
     "execution_count": 31,
     "metadata": {},
     "output_type": "execute_result"
    }
   ],
   "source": [
    "param_test3 = {\n",
    " 'gamma':[i/10.0 for i in range(0,5)]\n",
    "}\n",
    "gsearch3 = GridSearchCV(\n",
    "    estimator = XGBClassifier(\n",
    "        learning_rate =0.1,\n",
    "        n_estimators=140,\n",
    "        max_depth=max_depth_opt,\n",
    "        min_child_weight=min_child_weight_opt,\n",
    "        gamma=0,\n",
    "        subsample=0.8,\n",
    "        colsample_bytree=0.8,\n",
    "        objective= 'binary:logistic',\n",
    "        nthread=4,\n",
    "        scale_pos_weight=1,\n",
    "        seed=27), \n",
    "     param_grid = param_test3,\n",
    "    scoring=revert_scorer_logloss,\n",
    "    n_jobs=4,\n",
    "    iid=False,\n",
    "    cv=3)\n",
    "\n",
    "gsearch3.fit(x_train, y_train)\n",
    "gsearch3.best_params_, -gsearch3.best_score_"
   ]
  },
  {
   "cell_type": "code",
   "execution_count": 28,
   "metadata": {
    "collapsed": true
   },
   "outputs": [],
   "source": [
    "gamma_opt = 0"
   ]
  },
  {
   "cell_type": "code",
   "execution_count": 29,
   "metadata": {
    "collapsed": false
   },
   "outputs": [
    {
     "name": "stdout",
     "output_type": "stream",
     "text": [
      "\n",
      "Model Report\n",
      "logloss: 0.368965\n"
     ]
    },
    {
     "data": {
      "image/png": "[encoded data removed]",
      "text/plain": [
       "<matplotlib.figure.Figure at 0x10e17c710>"
      ]
     },
     "metadata": {},
     "output_type": "display_data"
    }
   ],
   "source": [
    "xgb2 = XGBClassifier(\n",
    "    learning_rate =0.1,\n",
    "    n_estimators=140,\n",
    "    max_depth=max_depth_opt,\n",
    "    min_child_weight=min_child_weight_opt,\n",
    "    gamma=gamma_opt,\n",
    "    subsample=0.8,\n",
    "    colsample_bytree=0.8,\n",
    "    objective= 'binary:logistic',\n",
    "    nthread=4,\n",
    "    scale_pos_weight=1,\n",
    "    seed=27)\n",
    "modelfit(xgb2, x_train, y_train)"
   ]
  },
  {
   "cell_type": "code",
   "execution_count": 33,
   "metadata": {
    "collapsed": false
   },
   "outputs": [
    {
     "data": {
      "text/plain": [
       "({'colsample_bytree': 0.6, 'subsample': 0.8}, 0.38237409726121907)"
      ]
     },
     "execution_count": 33,
     "metadata": {},
     "output_type": "execute_result"
    }
   ],
   "source": [
    "param_test4 = {\n",
    " 'subsample':[i/10.0 for i in range(6,10)],\n",
    " 'colsample_bytree':[i/10.0 for i in range(2,10)]\n",
    "}\n",
    "\n",
    "gsearch4 = GridSearchCV(\n",
    "    estimator = XGBClassifier(\n",
    "        learning_rate =0.1,\n",
    "        n_estimators=140,\n",
    "        max_depth=max_depth_opt,\n",
    "        min_child_weight=min_child_weight_opt,\n",
    "        gamma=gamma_opt,\n",
    "        subsample=0.8,\n",
    "        colsample_bytree=0.8,\n",
    "        objective= 'binary:logistic',\n",
    "        nthread=4,\n",
    "        scale_pos_weight=1,\n",
    "        seed=27), \n",
    "     param_grid = param_test4,\n",
    "    scoring=revert_scorer_logloss,\n",
    "    n_jobs=4,\n",
    "    iid=False,\n",
    "    cv=3)\n",
    "\n",
    "gsearch4.fit(x_train, y_train)\n",
    "gsearch4.best_params_, -gsearch4.best_score_"
   ]
  },
  {
   "cell_type": "code",
   "execution_count": 34,
   "metadata": {
    "collapsed": true
   },
   "outputs": [],
   "source": [
    "colsample_bytree_opt = 0.6\n",
    "subsample_opt = 0.8"
   ]
  },
  {
   "cell_type": "code",
   "execution_count": 42,
   "metadata": {
    "collapsed": false
   },
   "outputs": [
    {
     "data": {
      "text/plain": [
       "({'colsample_bytree': 0.59999999999999998, 'subsample': 0.76000000000000001},\n",
       " 0.38216624587869469)"
      ]
     },
     "execution_count": 42,
     "metadata": {},
     "output_type": "execute_result"
    }
   ],
   "source": [
    "param_test5 = {\n",
    " 'subsample':[i/100.0 for i in np.arange(subsample_opt*100-10,subsample_opt*100+11,2)],\n",
    " 'colsample_bytree':[i/100.0 for i in np.arange(colsample_bytree_opt*100-10,colsample_bytree_opt*100+11,2)]\n",
    "}\n",
    "\n",
    "gsearch5 = GridSearchCV(\n",
    "    estimator = XGBClassifier(\n",
    "        learning_rate =0.1,\n",
    "        n_estimators=140,\n",
    "        max_depth=max_depth_opt,\n",
    "        min_child_weight=min_child_weight_opt,\n",
    "        gamma=gamma_opt,\n",
    "        subsample=subsample_opt,\n",
    "        colsample_bytree=colsample_bytree_opt,\n",
    "        objective= 'binary:logistic',\n",
    "        nthread=4,\n",
    "        scale_pos_weight=1,\n",
    "        seed=27), \n",
    "     param_grid = param_test5,\n",
    "    scoring=revert_scorer_logloss,\n",
    "    n_jobs=4,\n",
    "    iid=False,\n",
    "    cv=3)\n",
    "\n",
    "\n",
    "gsearch5.fit(x_train, y_train)\n",
    "gsearch5.best_params_, -gsearch5.best_score_"
   ]
  },
  {
   "cell_type": "code",
   "execution_count": 43,
   "metadata": {
    "collapsed": true
   },
   "outputs": [],
   "source": [
    "# Уточненные значения\n",
    "colsample_bytree_opt = 0.6\n",
    "subsample_opt = 0.76"
   ]
  },
  {
   "cell_type": "code",
   "execution_count": 50,
   "metadata": {
    "collapsed": false
   },
   "outputs": [
    {
     "data": {
      "text/plain": [
       "({'reg_alpha': 8.3333333333333337e-06}, 0.38216624477779176)"
      ]
     },
     "execution_count": 50,
     "metadata": {},
     "output_type": "execute_result"
    }
   ],
   "source": [
    "param_test6 = {\n",
    " 'reg_alpha': np.concatenate([np.linspace(1e-5 - 1e-5/2, 1e-5 + 1e-5/2, 10), [1e-2, 0.1, 1, 100]]) #[1e-5, 1e-2, 0.1, 1, 100]\n",
    "}\n",
    "\n",
    "gsearch6 = GridSearchCV(\n",
    "    estimator = XGBClassifier(\n",
    "        learning_rate =0.1,\n",
    "        n_estimators=140,\n",
    "        max_depth=max_depth_opt,\n",
    "        min_child_weight=min_child_weight_opt,\n",
    "        gamma=gamma_opt,\n",
    "        subsample=subsample_opt,\n",
    "        colsample_bytree=colsample_bytree_opt,\n",
    "        objective= 'binary:logistic',\n",
    "        nthread=4,\n",
    "        scale_pos_weight=1,\n",
    "        seed=27), \n",
    "    param_grid = param_test6,\n",
    "    scoring=revert_scorer_logloss,\n",
    "    n_jobs=4,\n",
    "    iid=False,\n",
    "    cv=3)\n",
    "\n",
    "gsearch6.fit(x_train, y_train)\n",
    "gsearch6.best_params_, -gsearch6.best_score_"
   ]
  },
  {
   "cell_type": "code",
   "execution_count": 52,
   "metadata": {
    "collapsed": true
   },
   "outputs": [],
   "source": [
    "reg_alpha_opt = (8+1.0/3)*1e-6"
   ]
  },
  {
   "cell_type": "code",
   "execution_count": 59,
   "metadata": {
    "collapsed": true
   },
   "outputs": [
    {
     "name": "stdout",
     "output_type": "stream",
     "text": [
      "\n",
      "Model Report\n",
      "logloss: 0.369666\n"
     ]
    },
    {
     "data": {
      "image/png": "[encoded data removed]",
      "text/plain": [
       "<matplotlib.figure.Figure at 0x112639a10>"
      ]
     },
     "metadata": {},
     "output_type": "display_data"
    }
   ],
   "source": [
    "xgb3 = XGBClassifier(\n",
    "    learning_rate =0.1,\n",
    "    n_estimators=140,\n",
    "    max_depth=max_depth_opt,\n",
    "    min_child_weight=min_child_weight_opt,\n",
    "    gamma=gamma_opt,\n",
    "    subsample=subsample_opt,\n",
    "    colsample_bytree=colsample_bytree_opt,\n",
    "    reg_alpha=reg_alpha_opt,\n",
    "    objective= 'binary:logistic',\n",
    "    nthread=4,\n",
    "    scale_pos_weight=1,\n",
    "    seed=27)\n",
    "modelfit(xgb3, x_train, y_train)"
   ]
  },
  {
   "cell_type": "code",
   "execution_count": 61,
   "metadata": {
    "collapsed": false
   },
   "outputs": [
    {
     "data": {
      "text/plain": [
       "({'learning_rate': 0.10000000000000001, 'n_estimators': 140},\n",
       " 0.38216624477779176)"
      ]
     },
     "execution_count": 61,
     "metadata": {},
     "output_type": "execute_result"
    }
   ],
   "source": [
    "learning_rate=0.1\n",
    "n_estimators=140\n",
    "fractions=np.array([0.5,1,5,10,15,20,25,30])\n",
    "\n",
    "param_test7 = [{'learning_rate': [learning_rate/frac], 'n_estimators': [int(n_estimators*frac)]} for frac in fractions]\n",
    "\n",
    "gsearch7 = GridSearchCV(\n",
    "    estimator = XGBClassifier(\n",
    "        learning_rate =0.1,\n",
    "        n_estimators=140,\n",
    "        max_depth=max_depth_opt,\n",
    "        min_child_weight=min_child_weight_opt,\n",
    "        gamma=gamma_opt,\n",
    "        subsample=subsample_opt,\n",
    "        colsample_bytree=colsample_bytree_opt,\n",
    "        reg_alpha=reg_alpha_opt,\n",
    "        objective= 'binary:logistic',\n",
    "        nthread=4,\n",
    "        scale_pos_weight=1,\n",
    "        seed=27), \n",
    "    param_grid = param_test7,\n",
    "    scoring=revert_scorer_logloss,\n",
    "    n_jobs=4,\n",
    "    iid=False,\n",
    "    cv=3)\n",
    "\n",
    "gsearch7.fit(x_train, y_train)\n",
    "gsearch7.best_params_, -gsearch7.best_score_"
   ]
  },
  {
   "cell_type": "code",
   "execution_count": 62,
   "metadata": {
    "collapsed": true
   },
   "outputs": [],
   "source": [
    "learning_rate_opt = 0.0050000000000000001\n",
    "n_estimators_opt = 2800"
   ]
  },
  {
   "cell_type": "code",
   "execution_count": 63,
   "metadata": {
    "collapsed": true
   },
   "outputs": [],
   "source": [
    "classifier = XGBClassifier(\n",
    "    learning_rate=learning_rate_opt,\n",
    "    n_estimators=n_estimators_opt,\n",
    "    max_depth=max_depth_opt,\n",
    "    min_child_weight=min_child_weight_opt,\n",
    "    gamma=gamma_opt,\n",
    "    subsample=subsample_opt,\n",
    "    colsample_bytree=colsample_bytree_opt,\n",
    "    reg_alpha=reg_alpha_opt,\n",
    "    objective= 'binary:logistic',\n",
    "    nthread=4,\n",
    "    scale_pos_weight=1,\n",
    "    seed=27)"
   ]
  },
  {
   "cell_type": "code",
   "execution_count": 64,
   "metadata": {
    "collapsed": false
   },
   "outputs": [
    {
     "data": {
      "text/plain": [
       "{'base_score': 0.5,\n",
       " 'colsample_bylevel': 1,\n",
       " 'colsample_bytree': 0.6,\n",
       " 'gamma': 0,\n",
       " 'learning_rate': 0.005,\n",
       " 'max_delta_step': 0,\n",
       " 'max_depth': 3,\n",
       " 'min_child_weight': 9,\n",
       " 'missing': None,\n",
       " 'n_estimators': 2800,\n",
       " 'nthread': 4,\n",
       " 'objective': 'binary:logistic',\n",
       " 'reg_alpha': 8.333333333333334e-06,\n",
       " 'reg_lambda': 1,\n",
       " 'scale_pos_weight': 1,\n",
       " 'seed': 27,\n",
       " 'silent': True,\n",
       " 'subsample': 0.76}"
      ]
     },
     "execution_count": 64,
     "metadata": {},
     "output_type": "execute_result"
    }
   ],
   "source": [
    "classifier.get_params()"
   ]
  },
  {
   "cell_type": "code",
   "execution_count": 65,
   "metadata": {
    "collapsed": true
   },
   "outputs": [],
   "source": [
    "classifier.fit(x_train, y_train)\n",
    "y_test = classifier.predict_proba(x_test)[:,1]  # возвращается думерный массив, нас интересует 2-й стоблец\n",
    "res_df = pd.DataFrame(y_test, columns = ['y'])\n",
    "res_df.to_csv('res/009_xgb_n_est_2800.csv', sep=';', header=None, index=False)"
   ]
  },
  {
   "cell_type": "code",
   "execution_count": null,
   "metadata": {
    "collapsed": true
   },
   "outputs": [],
   "source": []
  },
  {
   "cell_type": "code",
   "execution_count": null,
   "metadata": {
    "collapsed": true
   },
   "outputs": [],
   "source": []
  },
  {
   "cell_type": "code",
   "execution_count": 72,
   "metadata": {
    "collapsed": false
   },
   "outputs": [],
   "source": []
  },
  {
   "cell_type": "code",
   "execution_count": 73,
   "metadata": {
    "collapsed": false
   },
   "outputs": [
    {
     "data": {
      "text/plain": [
       "array([-0.38228068, -0.37842793, -0.38572112])"
      ]
     },
     "execution_count": 73,
     "metadata": {},
     "output_type": "execute_result"
    }
   ],
   "source": [
    "classifier = XGBClassifier(base_score=0.5,\n",
    " colsample_bylevel= 1,\n",
    " colsample_bytree= 0.6,\n",
    " gamma= 0,\n",
    " learning_rate= 0.005,\n",
    " max_delta_step= 0,\n",
    " max_depth= 3,\n",
    " min_child_weight= 9,\n",
    " missing= None,\n",
    " n_estimators= 2800,\n",
    " nthread= 4,\n",
    " objective= 'binary:logistic',\n",
    " reg_alpha= 8.333333333333334e-06,\n",
    " reg_lambda= 1,\n",
    " scale_pos_weight= 1,\n",
    " seed= 27,\n",
    " silent= True,\n",
    " subsample= 0.76)\n",
    "\n",
    "cross_val_score(classifier, x_train, y_train, scoring=revert_scorer_logloss, n_jobs=4)"
   ]
  },
  {
   "cell_type": "code",
   "execution_count": 74,
   "metadata": {
    "collapsed": false
   },
   "outputs": [
    {
     "data": {
      "text/plain": [
       "array([-0.40989461, -0.40722043, -0.40836035])"
      ]
     },
     "execution_count": 74,
     "metadata": {},
     "output_type": "execute_result"
    }
   ],
   "source": [
    "classifier = XGBClassifier(base_score=0.5,\n",
    " colsample_bylevel= 1,\n",
    " colsample_bytree= 0.6,\n",
    " gamma= 0,\n",
    " learning_rate= 0.005,\n",
    " max_delta_step= 0,\n",
    " max_depth= 3,\n",
    " min_child_weight= 9,\n",
    " missing= None,\n",
    " n_estimators= 2800,\n",
    " nthread= 4,\n",
    " objective= 'binary:logistic',\n",
    " reg_alpha= 8.333333333333334e-06,\n",
    " reg_lambda= 1,\n",
    " scale_pos_weight= 0.5,\n",
    " seed= 27,\n",
    " silent= True,\n",
    " subsample= 0.76)\n",
    "\n",
    "cross_val_score(classifier, x_train, y_train, scoring=revert_scorer_logloss, n_jobs=4)"
   ]
  },
  {
   "cell_type": "code",
   "execution_count": null,
   "metadata": {
    "collapsed": true
   },
   "outputs": [],
   "source": []
  }
 ],
 "metadata": {
  "anaconda-cloud": {},
  "kernelspec": {
   "display_name": "Python [Root]",
   "language": "python",
   "name": "Python [Root]"
  },
  "language_info": {
   "codemirror_mode": {
    "name": "ipython",
    "version": 2
   },
   "file_extension": ".py",
   "mimetype": "text/x-python",
   "name": "python",
   "nbconvert_exporter": "python",
   "pygments_lexer": "ipython2",
   "version": "2.7.12"
  }
 },
 "nbformat": 4,
 "nbformat_minor": 0
}
